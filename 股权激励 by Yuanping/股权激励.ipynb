{
 "cells": [
  {
   "cell_type": "code",
   "execution_count": 190,
   "id": "7bb6a55a",
   "metadata": {},
   "outputs": [],
   "source": [
    "import pandas as pd\n",
    "import numpy as np\n",
    "import matplotlib.pyplot as plt\n",
    "from tqdm import tqdm\n",
    "plt.rcParams['font.family'] = ['sans-serif']\n",
    "plt.rcParams['axes.unicode_minus']=False\n",
    "import warnings\n",
    "warnings.filterwarnings('ignore')\n",
    "import seaborn as sns\n",
    "from datetime import datetime\n",
    "%matplotlib inline"
   ]
  },
  {
   "cell_type": "code",
   "execution_count": 435,
   "id": "2de9673e",
   "metadata": {},
   "outputs": [],
   "source": [
    "sns.set(context='notebook', \n",
    "            style='darkgrid', \n",
    "            palette='deep', \n",
    "            font='sans-serif', \n",
    "            font_scale=1, \n",
    "            color_codes=True, \n",
    "            rc=None)\n",
    "sns.set_style({'font.sans-serif':['SimHei','Arial']})"
   ]
  },
  {
   "cell_type": "code",
   "execution_count": 114,
   "id": "73583013",
   "metadata": {},
   "outputs": [],
   "source": [
    "raw_data = pd.read_excel(\"wind_sip.xlsx\")\n",
    "raw_data = raw_data[raw_data['名称'].notna()]\n",
    "# raw_data.dropna(inplace=True)"
   ]
  },
  {
   "cell_type": "code",
   "execution_count": 115,
   "id": "c55bc260",
   "metadata": {},
   "outputs": [
    {
     "data": {
      "text/plain": [
       "Index(['序号', '代码', '名称', '最新公告日期', '预案公告日', '方案进度', '激励标的物', '激励方式',\n",
       "       '激励总数(万股/万份)', '激励总数占当时总股本比例(%)', '期权初始行权价格(股票转让价格)', '有效期(年)',\n",
       "       '锁定期(年)', '解锁期(年)', '股东大会公告日', '首次实施公告日', '到期日', '方案说明', '价格说明',\n",
       "       '激励股票出售说明', '激励授予条件', '行权特别条件', '解锁方式', '证监会行业', 'Wind行业'],\n",
       "      dtype='object')"
      ]
     },
     "execution_count": 115,
     "metadata": {},
     "output_type": "execute_result"
    }
   ],
   "source": [
    "raw_data.columns"
   ]
  },
  {
   "cell_type": "code",
   "execution_count": 116,
   "id": "db434b78",
   "metadata": {},
   "outputs": [
    {
     "data": {
      "text/plain": [
       "array(['实施', '停止实施', '股东大会通过', '董事会预案', '国资委批准', '股东大会未通过'], dtype=object)"
      ]
     },
     "execution_count": 116,
     "metadata": {},
     "output_type": "execute_result"
    }
   ],
   "source": [
    "raw_data['方案进度'].unique()"
   ]
  },
  {
   "cell_type": "code",
   "execution_count": 119,
   "id": "0c5e37f7",
   "metadata": {},
   "outputs": [
    {
     "data": {
      "text/plain": [
       "array(['期权', '第一类限制性股票', '股票增值权', '第二类限制性股票'], dtype=object)"
      ]
     },
     "execution_count": 119,
     "metadata": {},
     "output_type": "execute_result"
    }
   ],
   "source": [
    "raw_data['激励标的物'].unique()"
   ]
  },
  {
   "cell_type": "code",
   "execution_count": 180,
   "id": "b2911abd",
   "metadata": {},
   "outputs": [],
   "source": [
    "raw_data['板块'] = np.nan\n",
    "raw_data.loc[raw_data['代码'].str[0:3].isin(['688','689']), '板块']='科创板'\n",
    "raw_data.loc[raw_data['代码'].str[0:2]=='30', '板块']='创业板'\n",
    "raw_data.loc[raw_data['代码'].str[0:3].isin(['600', '601', '603', '605', '000','001']), '板块']='主板'\n",
    "raw_data.loc[raw_data['代码'].str[0:3].isin(['002','003']), '板块']='中小板'\n",
    "raw_data.loc[raw_data['代码'].str[0:3]=='430', '板块']='新三板'\n",
    "raw_data.loc[raw_data['代码'].str[0]=='8', '板块']='北证'\n",
    "raw_data['year'] = raw_data['预案公告日'].year\n"
   ]
  },
  {
   "cell_type": "code",
   "execution_count": 184,
   "id": "cefc63d3",
   "metadata": {},
   "outputs": [
    {
     "data": {
      "text/html": [
       "<div>\n",
       "<style scoped>\n",
       "    .dataframe tbody tr th:only-of-type {\n",
       "        vertical-align: middle;\n",
       "    }\n",
       "\n",
       "    .dataframe tbody tr th {\n",
       "        vertical-align: top;\n",
       "    }\n",
       "\n",
       "    .dataframe thead th {\n",
       "        text-align: right;\n",
       "    }\n",
       "</style>\n",
       "<table border=\"1\" class=\"dataframe\">\n",
       "  <thead>\n",
       "    <tr style=\"text-align: right;\">\n",
       "      <th></th>\n",
       "      <th>序号</th>\n",
       "      <th>代码</th>\n",
       "      <th>名称</th>\n",
       "      <th>最新公告日期</th>\n",
       "      <th>预案公告日</th>\n",
       "      <th>方案进度</th>\n",
       "      <th>激励标的物</th>\n",
       "      <th>激励方式</th>\n",
       "      <th>激励总数(万股/万份)</th>\n",
       "      <th>激励总数占当时总股本比例(%)</th>\n",
       "      <th>...</th>\n",
       "      <th>到期日</th>\n",
       "      <th>方案说明</th>\n",
       "      <th>价格说明</th>\n",
       "      <th>激励股票出售说明</th>\n",
       "      <th>激励授予条件</th>\n",
       "      <th>行权特别条件</th>\n",
       "      <th>解锁方式</th>\n",
       "      <th>证监会行业</th>\n",
       "      <th>Wind行业</th>\n",
       "      <th>板块</th>\n",
       "    </tr>\n",
       "  </thead>\n",
       "  <tbody>\n",
       "    <tr>\n",
       "      <th>3389</th>\n",
       "      <td>3390.0</td>\n",
       "      <td>600383.SH</td>\n",
       "      <td>金地集团</td>\n",
       "      <td>2010-03-20</td>\n",
       "      <td>2010-01-15</td>\n",
       "      <td>实施</td>\n",
       "      <td>期权</td>\n",
       "      <td>授予期权,行权股票来源为上市公司定向发行股票</td>\n",
       "      <td>9937.0000</td>\n",
       "      <td>4.0000</td>\n",
       "      <td>...</td>\n",
       "      <td>2017-03-19</td>\n",
       "      <td>本计划下授予的每份股票期权拥有在行权有效期内，在满足生效条件和生效安排情况下，以行权价格购买...</td>\n",
       "      <td>14.12</td>\n",
       "      <td>股票期权属于激励对象本人（激励对象死亡时，由其法定继承人继承），不可出售、转让、担保、押记、...</td>\n",
       "      <td>公司和激励对象满足以下条件时，公司方可依据本计划向激励对象进行股票期权授予：_x000d_\\...</td>\n",
       "      <td>（一）股票期权生效前一个财务年度公司业绩达到以下条件：_x000d_\\n（1）扣除非经常性损...</td>\n",
       "      <td>NaN</td>\n",
       "      <td>房地产业</td>\n",
       "      <td>房地产Ⅱ</td>\n",
       "      <td>主板</td>\n",
       "    </tr>\n",
       "    <tr>\n",
       "      <th>307</th>\n",
       "      <td>308.0</td>\n",
       "      <td>002011.SZ</td>\n",
       "      <td>盾安环境</td>\n",
       "      <td>2010-08-17</td>\n",
       "      <td>2010-01-19</td>\n",
       "      <td>实施</td>\n",
       "      <td>期权</td>\n",
       "      <td>授予期权,行权股票来源为上市公司定向发行股票</td>\n",
       "      <td>1450.0000</td>\n",
       "      <td>3.8900</td>\n",
       "      <td>...</td>\n",
       "      <td>2015-08-13</td>\n",
       "      <td>本激励计划中，盾安环境授予激励对象总计1450万份股票期权，股票来源为盾安环境向激励对象定向...</td>\n",
       "      <td>18.65</td>\n",
       "      <td>1、激励对象出售其行权后持有盾安环境股票，应当符合《公司法》、《证券法》及其他法律、法规和规...</td>\n",
       "      <td>1、在授权前，公司应未发生如下任一情形：_x000d_\\n（1）最近一个会计年度的财务会计报...</td>\n",
       "      <td>第一个行权期行权条件为：2009年度至N年度，归属于公司股东的扣除非经常损益后净利润年复合增...</td>\n",
       "      <td>NaN</td>\n",
       "      <td>通用设备制造业</td>\n",
       "      <td>资本货物</td>\n",
       "      <td>中小板</td>\n",
       "    </tr>\n",
       "    <tr>\n",
       "      <th>461</th>\n",
       "      <td>462.0</td>\n",
       "      <td>002138.SZ</td>\n",
       "      <td>顺络电子</td>\n",
       "      <td>2010-04-01</td>\n",
       "      <td>2010-01-20</td>\n",
       "      <td>实施</td>\n",
       "      <td>第一类限制性股票</td>\n",
       "      <td>上市公司定向发行股票</td>\n",
       "      <td>735.1500</td>\n",
       "      <td>6.0159</td>\n",
       "      <td>...</td>\n",
       "      <td>2015-03-17</td>\n",
       "      <td>本股权激励计划所采用的激励形式为限制性股票。本股权激励计划所涉及的标的股票不超过569万股顺...</td>\n",
       "      <td>2009年度分红调整为3.19元/股.</td>\n",
       "      <td>本《激励计划》对激励对象出售其持有的顺络电子股票的规定为：（1）激励对象转让其持有的顺络电子...</td>\n",
       "      <td>1,顺络电子未发生如下任一情形:(1)最近一个会计年度的财务会计报告被注册会计师出具否定意见...</td>\n",
       "      <td>第一次解锁:2010年度加权平均净资产收益率不低于10%； 以2009年度净利润为基数，20...</td>\n",
       "      <td>NaN</td>\n",
       "      <td>计算机、通信和其他电子设备制造业</td>\n",
       "      <td>技术硬件与设备</td>\n",
       "      <td>中小板</td>\n",
       "    </tr>\n",
       "    <tr>\n",
       "      <th>104</th>\n",
       "      <td>105.0</td>\n",
       "      <td>000568.SZ</td>\n",
       "      <td>泸州老窖</td>\n",
       "      <td>2010-02-11</td>\n",
       "      <td>2010-01-23</td>\n",
       "      <td>实施</td>\n",
       "      <td>期权</td>\n",
       "      <td>授予期权,行权股票来源为上市公司定向发行股票</td>\n",
       "      <td>1344.0000</td>\n",
       "      <td>0.9600</td>\n",
       "      <td>...</td>\n",
       "      <td>2015-02-10</td>\n",
       "      <td>泸州老窖授予激励对象1,344万份股票期权，每份股票期权拥有在可行权日以行权价格和行权条件购...</td>\n",
       "      <td>12.78</td>\n",
       "      <td>禁售期是指对激励对象行权后所获股票进行售出限制的时间段。本次股票期权激励计划的禁售规定按照《...</td>\n",
       "      <td>1、公司未发生如下任一情形：_x000d_\\n（1）最近一个会计年度财务会计报告被注册会计师...</td>\n",
       "      <td>本计划在2011——2013年的3个会计年度中，分年度进行绩效考核，每个会计年度考核一次，以...</td>\n",
       "      <td>NaN</td>\n",
       "      <td>酒、饮料和精制茶制造业</td>\n",
       "      <td>食品、饮料与烟草</td>\n",
       "      <td>主板</td>\n",
       "    </tr>\n",
       "    <tr>\n",
       "      <th>479</th>\n",
       "      <td>480.0</td>\n",
       "      <td>002153.SZ</td>\n",
       "      <td>石基信息</td>\n",
       "      <td>2014-03-11</td>\n",
       "      <td>2010-01-23</td>\n",
       "      <td>停止实施</td>\n",
       "      <td>期权</td>\n",
       "      <td>授予期权,行权股票来源为上市公司定向发行股票</td>\n",
       "      <td>143.4786</td>\n",
       "      <td>1.2875</td>\n",
       "      <td>...</td>\n",
       "      <td>2014-02-12</td>\n",
       "      <td>公司拟授予股票期权激励对象288.4 万份股票期权，每份股票期权拥有在股票期权激励计划有效期...</td>\n",
       "      <td>分红由45元调整为44.7元</td>\n",
       "      <td>1、激励对象转让其持有公司的股票，应当符合《公司法》、《证券法》、《深圳证券交易所股票上市规...</td>\n",
       "      <td>1,公司未发生如下任一情形:(1)最近一个会计年度的财务会计报告被注册会计师出具否定意见或者...</td>\n",
       "      <td>行权的公司业绩考核条件为：（1）以2008 年为基数，T 年度（授予日所在年度）、T+1 年...</td>\n",
       "      <td>NaN</td>\n",
       "      <td>软件和信息技术服务业</td>\n",
       "      <td>软件与服务</td>\n",
       "      <td>中小板</td>\n",
       "    </tr>\n",
       "  </tbody>\n",
       "</table>\n",
       "<p>5 rows × 26 columns</p>\n",
       "</div>"
      ],
      "text/plain": [
       "          序号         代码    名称     最新公告日期      预案公告日  方案进度     激励标的物  \\\n",
       "3389  3390.0  600383.SH  金地集团 2010-03-20 2010-01-15    实施        期权   \n",
       "307    308.0  002011.SZ  盾安环境 2010-08-17 2010-01-19    实施        期权   \n",
       "461    462.0  002138.SZ  顺络电子 2010-04-01 2010-01-20    实施  第一类限制性股票   \n",
       "104    105.0  000568.SZ  泸州老窖 2010-02-11 2010-01-23    实施        期权   \n",
       "479    480.0  002153.SZ  石基信息 2014-03-11 2010-01-23  停止实施        期权   \n",
       "\n",
       "                        激励方式  激励总数(万股/万份)  激励总数占当时总股本比例(%)  ...        到期日  \\\n",
       "3389  授予期权,行权股票来源为上市公司定向发行股票    9937.0000           4.0000  ... 2017-03-19   \n",
       "307   授予期权,行权股票来源为上市公司定向发行股票    1450.0000           3.8900  ... 2015-08-13   \n",
       "461               上市公司定向发行股票     735.1500           6.0159  ... 2015-03-17   \n",
       "104   授予期权,行权股票来源为上市公司定向发行股票    1344.0000           0.9600  ... 2015-02-10   \n",
       "479   授予期权,行权股票来源为上市公司定向发行股票     143.4786           1.2875  ... 2014-02-12   \n",
       "\n",
       "                                                   方案说明                 价格说明  \\\n",
       "3389  本计划下授予的每份股票期权拥有在行权有效期内，在满足生效条件和生效安排情况下，以行权价格购买...                14.12   \n",
       "307   本激励计划中，盾安环境授予激励对象总计1450万份股票期权，股票来源为盾安环境向激励对象定向...                18.65   \n",
       "461   本股权激励计划所采用的激励形式为限制性股票。本股权激励计划所涉及的标的股票不超过569万股顺...  2009年度分红调整为3.19元/股.   \n",
       "104   泸州老窖授予激励对象1,344万份股票期权，每份股票期权拥有在可行权日以行权价格和行权条件购...                12.78   \n",
       "479   公司拟授予股票期权激励对象288.4 万份股票期权，每份股票期权拥有在股票期权激励计划有效期...       分红由45元调整为44.7元   \n",
       "\n",
       "                                               激励股票出售说明  \\\n",
       "3389  股票期权属于激励对象本人（激励对象死亡时，由其法定继承人继承），不可出售、转让、担保、押记、...   \n",
       "307   1、激励对象出售其行权后持有盾安环境股票，应当符合《公司法》、《证券法》及其他法律、法规和规...   \n",
       "461   本《激励计划》对激励对象出售其持有的顺络电子股票的规定为：（1）激励对象转让其持有的顺络电子...   \n",
       "104   禁售期是指对激励对象行权后所获股票进行售出限制的时间段。本次股票期权激励计划的禁售规定按照《...   \n",
       "479   1、激励对象转让其持有公司的股票，应当符合《公司法》、《证券法》、《深圳证券交易所股票上市规...   \n",
       "\n",
       "                                                 激励授予条件  \\\n",
       "3389  公司和激励对象满足以下条件时，公司方可依据本计划向激励对象进行股票期权授予：_x000d_\\...   \n",
       "307   1、在授权前，公司应未发生如下任一情形：_x000d_\\n（1）最近一个会计年度的财务会计报...   \n",
       "461   1,顺络电子未发生如下任一情形:(1)最近一个会计年度的财务会计报告被注册会计师出具否定意见...   \n",
       "104   1、公司未发生如下任一情形：_x000d_\\n（1）最近一个会计年度财务会计报告被注册会计师...   \n",
       "479   1,公司未发生如下任一情形:(1)最近一个会计年度的财务会计报告被注册会计师出具否定意见或者...   \n",
       "\n",
       "                                                 行权特别条件 解锁方式  \\\n",
       "3389  （一）股票期权生效前一个财务年度公司业绩达到以下条件：_x000d_\\n（1）扣除非经常性损...  NaN   \n",
       "307   第一个行权期行权条件为：2009年度至N年度，归属于公司股东的扣除非经常损益后净利润年复合增...  NaN   \n",
       "461   第一次解锁:2010年度加权平均净资产收益率不低于10%； 以2009年度净利润为基数，20...  NaN   \n",
       "104   本计划在2011——2013年的3个会计年度中，分年度进行绩效考核，每个会计年度考核一次，以...  NaN   \n",
       "479   行权的公司业绩考核条件为：（1）以2008 年为基数，T 年度（授予日所在年度）、T+1 年...  NaN   \n",
       "\n",
       "                 证监会行业    Wind行业   板块  \n",
       "3389              房地产业      房地产Ⅱ   主板  \n",
       "307            通用设备制造业      资本货物  中小板  \n",
       "461   计算机、通信和其他电子设备制造业   技术硬件与设备  中小板  \n",
       "104        酒、饮料和精制茶制造业  食品、饮料与烟草   主板  \n",
       "479         软件和信息技术服务业     软件与服务  中小板  \n",
       "\n",
       "[5 rows x 26 columns]"
      ]
     },
     "execution_count": 184,
     "metadata": {},
     "output_type": "execute_result"
    }
   ],
   "source": [
    "data=raw_data[raw_data['预案公告日']>='2010-01-01']\n",
    "data['预案公告日']= pd.to_datetime(data['预案公告日'])\n",
    "data['最新公告日期'] = pd.to_datetime(data['最新公告日期'])\n",
    "\n",
    "data.sort_values('预案公告日', ascending=True, inplace=True)\n",
    "data.head()"
   ]
  },
  {
   "cell_type": "code",
   "execution_count": 325,
   "id": "d91f404b",
   "metadata": {},
   "outputs": [],
   "source": [
    "data['year'] = data['预案公告日'].dt.year"
   ]
  },
  {
   "cell_type": "code",
   "execution_count": 480,
   "id": "ca89eff4",
   "metadata": {},
   "outputs": [
    {
     "data": {
      "text/plain": [
       "Timestamp('2023-02-28 00:00:00')"
      ]
     },
     "execution_count": 480,
     "metadata": {},
     "output_type": "execute_result"
    }
   ],
   "source": [
    "data['预案公告日'].max()"
   ]
  },
  {
   "cell_type": "markdown",
   "id": "8741231b",
   "metadata": {},
   "source": [
    " ## 实施占比情况"
   ]
  },
  {
   "cell_type": "code",
   "execution_count": 474,
   "id": "26414594",
   "metadata": {},
   "outputs": [],
   "source": [
    "class Description:\n",
    "    def __init__(self, data_=data):\n",
    "        self.data=data_\n",
    "    def execution(self):\n",
    "        self.completed_ratio = len(self.data[self.data['方案进度'].isin(\n",
    "            ['实施', '董事会预案', '股东大会通过', '国资委批准'])])/len(self.data)\n",
    "        plt.pie([self.completed_ratio, 1-self.completed_ratio], labels=['实施', '未实施'],\n",
    "               autopct='%.1f%%')\n",
    "        plt.title('股权激励实施情况')\n",
    "        plt.show()\n",
    "    def underlying(self):\n",
    "        plt.pie(self.data['激励标的物'].value_counts().values, labels=self.data['激励标的物'].value_counts().index\n",
    "                ,autopct=\"%.1f%%\")\n",
    "        plt.title(\"激励标的物\")\n",
    "        plt.show()\n",
    "    def annual(self):\n",
    "        self.annual_stats = pd.DataFrame(index=np.arange(2010,2024), columns=['all', 'done','ratio'])\n",
    "        self.annual_stats['all'] = self.data.groupby(['year'])['序号'].agg('count')\n",
    "        self.annual_stats['done'] = self.data[data['方案进度'].isin(\n",
    "            ['实施', '董事会预案', '股东大会通过', '国资委批准'])].groupby(['year'])['序号'].agg('count')\n",
    "        self.annual_stats['ratio'] = self.annual_stats['done']/self.annual_stats['all']\n",
    "        \n",
    "        x = np.arange(0,len(self.annual_stats['all'])*2,2)\n",
    "        width=0.5\n",
    "        x1 = x-width/2\n",
    "        x2 = x+width/2\n",
    "        y1 = self.annual_stats['all']\n",
    "        y2 = self.annual_stats['done']\n",
    "\n",
    "        # 绘制分组柱状图\n",
    "\n",
    "        plt.bar(x1,y1,width=0.5,label='全部',color='#f9766e',edgecolor='k',zorder=2)\n",
    "        plt.bar(x2,y2,width=0.5,label='实施',color='#00bfc4',edgecolor='k',zorder=2)\n",
    "\n",
    "        # 添加x,y轴名称、图例和网格线\n",
    "        plt.xlabel('年份',fontsize=11)\n",
    "        plt.ylabel('数量',fontsize=11)\n",
    "        plt.legend(frameon=False)\n",
    "        plt.grid(ls='--',alpha=0.8)\n",
    "\n",
    "        # 修改x刻度标签为对应日期\n",
    "        plt.xticks(x,self.annual_stats.index,fontsize=10)\n",
    "        plt.tick_params(axis='x',length=0)\n",
    "\n",
    "        plt.tight_layout()\n",
    "#         plt.savefig('bar2.png',dpi=600)\n",
    "        plt.show()\n",
    "        \n",
    "        self.annual_stats.ratio.plot()\n",
    "        plt.title('股权激励实施率')\n",
    "        plt.legend(['实施率'])\n",
    "        plt.show()\n",
    "        "
   ]
  },
  {
   "cell_type": "code",
   "execution_count": 475,
   "id": "eeea019b",
   "metadata": {
    "scrolled": true
   },
   "outputs": [
    {
     "data": {
      "image/png": "[encoded data removed]",
      "text/plain": [
       "<Figure size 432x288 with 1 Axes>"
      ]
     },
     "metadata": {},
     "output_type": "display_data"
    },
    {
     "data": {
      "image/png": "[encoded data removed]",
      "text/plain": [
       "<Figure size 432x288 with 1 Axes>"
      ]
     },
     "metadata": {},
     "output_type": "display_data"
    }
   ],
   "source": [
    "des_all = Description()\n",
    "des_all.execution()\n",
    "des_all.underlying()"
   ]
  },
  {
   "cell_type": "markdown",
   "id": "e37dc087",
   "metadata": {},
   "source": [
    "## 实施情况分年表现"
   ]
  },
  {
   "cell_type": "code",
   "execution_count": 476,
   "id": "2c70159c",
   "metadata": {},
   "outputs": [
    {
     "data": {
      "image/png": "[encoded data removed]",
      "text/plain": [
       "<Figure size 432x288 with 1 Axes>"
      ]
     },
     "metadata": {},
     "output_type": "display_data"
    },
    {
     "data": {
      "image/png": "[encoded data removed]",
      "text/plain": [
       "<Figure size 432x288 with 1 Axes>"
      ]
     },
     "metadata": {},
     "output_type": "display_data"
    }
   ],
   "source": [
    "des_all.annual()"
   ]
  },
  {
   "cell_type": "code",
   "execution_count": 472,
   "id": "5774c94f",
   "metadata": {},
   "outputs": [
    {
     "data": {
      "image/png": "[encoded data removed]",
      "text/plain": [
       "<Figure size 432x288 with 1 Axes>"
      ]
     },
     "metadata": {},
     "output_type": "display_data"
    }
   ],
   "source": [
    "## 20210101-20220815\n",
    "cyb21 = Description(data_=data[(data['预案公告日']>='20210101')&( data['预案公告日']<'20220815')\n",
    "                               &(data['板块']=='创业板')])\n",
    "# des22.execution()\n",
    "cyb21.underlying()"
   ]
  },
  {
   "cell_type": "code",
   "execution_count": 473,
   "id": "2b3c349f",
   "metadata": {},
   "outputs": [
    {
     "data": {
      "image/png": "[encoded data removed]",
      "text/plain": [
       "<Figure size 432x288 with 1 Axes>"
      ]
     },
     "metadata": {},
     "output_type": "display_data"
    }
   ],
   "source": [
    "## 20210101-20220815\n",
    "kcb21 = Description(data_=data[(data['预案公告日']>='20210101')&( data['预案公告日']<'20220815')\n",
    "                               &(data['板块']=='科创板')])\n",
    "# des22.execution()\n",
    "kcb21.underlying()"
   ]
  },
  {
   "cell_type": "code",
   "execution_count": 221,
   "id": "b3c53fc6",
   "metadata": {},
   "outputs": [
    {
     "data": {
      "text/plain": [
       "array(['实施', '停止实施', '董事会预案', '股东大会通过', '股东大会未通过', '国资委批准'], dtype=object)"
      ]
     },
     "execution_count": 221,
     "metadata": {},
     "output_type": "execute_result"
    }
   ],
   "source": [
    "data['方案进度'].unique()"
   ]
  },
  {
   "cell_type": "markdown",
   "id": "b7aa6066",
   "metadata": {},
   "source": [
    "## 超额收益\n",
    "预案公告日后T+120日的收益率与中证全指进行比较   \n",
    "规则：预案公告日下一个交易日开盘价买入（暂时忽略开盘涨停的问题）"
   ]
  },
  {
   "cell_type": "code",
   "execution_count": 261,
   "id": "de9f73d4",
   "metadata": {},
   "outputs": [
    {
     "name": "stderr",
     "output_type": "stream",
     "text": [
      "100%|███████████████████████████████████████| 5018/5018 [02:16<00:00, 36.81it/s]\n"
     ]
    }
   ],
   "source": [
    "\"\"\"\n",
    "absolute return\n",
    "\"\"\"\n",
    "time_window = 120\n",
    "abs_col = ['date', 'code','status','open_ret', 'd1_fall'] + ['equity'+str(x+1) for x in range(time_window)] + ['index' + str(x+1) for x in range(time_window)]\n",
    "abs_ret = pd.DataFrame(columns=abs_col)\n",
    "\"\"\"\n",
    "CSI：中证全指\n",
    "\"\"\"\n",
    "csi_data = pd.read_csv('000985.csv')\n",
    "csi_data.trade_date = pd.to_datetime(csi_data.trade_date.astype(str))\n",
    "csi_data.sort_values('trade_date', ascending=True, inplace=True)\n",
    "for i in tqdm(range(len(data))):\n",
    "    temp_series = data.iloc[i,:]\n",
    "    if temp_series['预案公告日'] >= pd.to_datetime('20220815'): continue\n",
    "    stock_data = pd.read_csv('stock_data/' + temp_series['代码'] + '.csv')\n",
    "    original_length = len(stock_data)\n",
    "    stock_data.trade_date = pd.to_datetime(stock_data.trade_date.astype(str))\n",
    "    stock_data.sort_values('trade_date', ascending=True, inplace=True)\n",
    "    stock_data['pre_date'] = stock_data['trade_date'].shift()\n",
    "    # temp_data['pre_close'] = temp_data['close'].shift(1)\n",
    "    stock_data = stock_data[stock_data['trade_date'] >= temp_series['预案公告日']]\n",
    "    ## 当日不可交易的情况\n",
    "    if (stock_data.trade_date.iloc[0]-temp_series['预案公告日']).days>10: continue\n",
    "    if (stock_data.trade_date.iloc[0]-stock_data.pre_date.iloc[0]).days>10: continue\n",
    "    \n",
    "    if original_length - len(stock_data) <= 120: continue\n",
    "    stock_data['cost'] = stock_data['open'].iloc[0]\n",
    "    stock_data['ret'] = stock_data['close'] / stock_data['cost'] - 1\n",
    "    \n",
    "    ## \n",
    "    open_ret = stock_data['open'].iloc[0]/stock_data['pre_close'].iloc[0] - 1\n",
    "    d1_fall = stock_data['close'].iloc[0] / stock_data['open'].iloc[0] - 1\n",
    "\n",
    "    csi = csi_data.copy()\n",
    "    csi = csi[csi.trade_date>=temp_series['预案公告日']]\n",
    "    csi['cost'] = csi['open'].iloc[0]\n",
    "    csi['ret'] = csi['close']/csi['cost']-1\n",
    "\n",
    "    new_row = [temp_series['预案公告日'], temp_series['代码'], temp_series['方案进度'],\n",
    "               open_ret, d1_fall] + list(stock_data.ret.iloc[0:time_window]) +\\\n",
    "              list(csi.ret.iloc[0:time_window])\n",
    "\n",
    "    abs_ret.loc[i] = new_row"
   ]
  },
  {
   "cell_type": "code",
   "execution_count": 280,
   "id": "17821da8",
   "metadata": {},
   "outputs": [],
   "source": [
    "abs_ret['sector'] = list(data.drop_duplicates('代码').set_index('代码').loc[abs_ret.code, '板块'])"
   ]
  },
  {
   "cell_type": "code",
   "execution_count": 285,
   "id": "6030cf46",
   "metadata": {},
   "outputs": [
    {
     "data": {
      "text/plain": [
       "23      0.015414\n",
       "24      0.062069\n",
       "25      0.004494\n",
       "26      0.025024\n",
       "27      0.006772\n",
       "          ...   \n",
       "4622    0.022686\n",
       "4624    0.041244\n",
       "4625    0.004336\n",
       "4626    0.001215\n",
       "4627    0.000000\n",
       "Name: open_ret, Length: 3993, dtype: float64"
      ]
     },
     "execution_count": 285,
     "metadata": {},
     "output_type": "execute_result"
    }
   ],
   "source": [
    "abs_ret.open_ret.abs()"
   ]
  },
  {
   "cell_type": "code",
   "execution_count": 299,
   "id": "140feaac",
   "metadata": {},
   "outputs": [],
   "source": [
    "filtered_ret = abs_ret[~((abs_ret.open_ret.abs()>=0.198)&(abs_ret['sector'].isin(['科创板','创业板'])))]\n",
    "filtered_ret = abs_ret[((abs_ret.open_ret.abs()<=0.097)&(~abs_ret['sector'].isin(['科创板','创业板'])))]"
   ]
  },
  {
   "cell_type": "code",
   "execution_count": 300,
   "id": "8cc75335",
   "metadata": {},
   "outputs": [],
   "source": [
    "# temp_series = data.iloc[i,:]\n",
    "# # if temp_series['预案公告日'] >= pd.to_datetime('20220815'): continue\n",
    "# stock_data = pd.read_csv('stock_data/' + temp_series['代码'] + '.csv')\n",
    "# original_length = len(stock_data)\n",
    "# stock_data.trade_date = pd.to_datetime(stock_data.trade_date.astype(str))\n",
    "# stock_data.sort_values('trade_date', ascending=True, inplace=True)\n",
    "# # temp_data['pre_close'] = temp_data['close'].shift(1)\n",
    "# stock_data = stock_data[stock_data['trade_date'] >= temp_series['预案公告日']]\n",
    "# # if original_length - len(stock_data) <= 120: continue\n",
    "# stock_data['cost'] = stock_data['open'].iloc[0]\n",
    "# stock_data['ret'] = stock_data['close'] / stock_data['cost'] - 1\n",
    "\n",
    "# ## \n",
    "# open_ret = stock_data['open'].iloc[0]/stock_data['pre_close'].iloc[0] - 1\n",
    "# d1_fall = stock_data['close'].iloc[0] / stock_data['open'].iloc[0] - 1\n",
    "\n",
    "# csi = csi_data.copy()\n",
    "# csi = csi[csi.trade_date>=temp_series['预案公告日']]\n",
    "# csi['cost'] = csi['open'].iloc[0]\n",
    "# csi['ret'] = csi['close']/csi['cost']-1\n",
    "\n",
    "# new_row = [temp_series['预案公告日'], temp_series['代码'], temp_series['方案进度'],\n",
    "#            open_ret, d1_fall] + list(stock_data.ret.iloc[0:time_window]) +\\\n",
    "#           list(csi.ret.iloc[0:time_window])\n",
    "\n",
    "# abs_ret.loc[i] = new_row"
   ]
  },
  {
   "cell_type": "code",
   "execution_count": 313,
   "id": "409c6336",
   "metadata": {},
   "outputs": [
    {
     "data": {
      "text/plain": [
       "3993"
      ]
     },
     "execution_count": 313,
     "metadata": {},
     "output_type": "execute_result"
    }
   ],
   "source": [
    "len(abs_ret)"
   ]
  },
  {
   "cell_type": "code",
   "execution_count": 302,
   "id": "11de6af5",
   "metadata": {
    "scrolled": true
   },
   "outputs": [
    {
     "data": {
      "text/html": [
       "<div>\n",
       "<style scoped>\n",
       "    .dataframe tbody tr th:only-of-type {\n",
       "        vertical-align: middle;\n",
       "    }\n",
       "\n",
       "    .dataframe tbody tr th {\n",
       "        vertical-align: top;\n",
       "    }\n",
       "\n",
       "    .dataframe thead th {\n",
       "        text-align: right;\n",
       "    }\n",
       "</style>\n",
       "<table border=\"1\" class=\"dataframe\">\n",
       "  <thead>\n",
       "    <tr style=\"text-align: right;\">\n",
       "      <th></th>\n",
       "      <th>date</th>\n",
       "      <th>code</th>\n",
       "      <th>status</th>\n",
       "      <th>open_ret</th>\n",
       "      <th>d1_fall</th>\n",
       "      <th>equity1</th>\n",
       "      <th>equity2</th>\n",
       "      <th>equity3</th>\n",
       "      <th>equity4</th>\n",
       "      <th>equity5</th>\n",
       "      <th>...</th>\n",
       "      <th>index112</th>\n",
       "      <th>index113</th>\n",
       "      <th>index114</th>\n",
       "      <th>index115</th>\n",
       "      <th>index116</th>\n",
       "      <th>index117</th>\n",
       "      <th>index118</th>\n",
       "      <th>index119</th>\n",
       "      <th>index120</th>\n",
       "      <th>sector</th>\n",
       "    </tr>\n",
       "  </thead>\n",
       "  <tbody>\n",
       "    <tr>\n",
       "      <th>1955</th>\n",
       "      <td>2018-07-09</td>\n",
       "      <td>002583.SZ</td>\n",
       "      <td>实施</td>\n",
       "      <td>0.096732</td>\n",
       "      <td>-0.023838</td>\n",
       "      <td>-0.023838</td>\n",
       "      <td>-0.009535</td>\n",
       "      <td>-0.022646</td>\n",
       "      <td>0.051251</td>\n",
       "      <td>0.091776</td>\n",
       "      <td>...</td>\n",
       "      <td>-0.114204</td>\n",
       "      <td>-0.115888</td>\n",
       "      <td>-0.124565</td>\n",
       "      <td>-0.119340</td>\n",
       "      <td>-0.127010</td>\n",
       "      <td>-0.130490</td>\n",
       "      <td>-0.138336</td>\n",
       "      <td>-0.134726</td>\n",
       "      <td>-0.143040</td>\n",
       "      <td>中小板</td>\n",
       "    </tr>\n",
       "    <tr>\n",
       "      <th>4114</th>\n",
       "      <td>2022-01-21</td>\n",
       "      <td>603337.SH</td>\n",
       "      <td>实施</td>\n",
       "      <td>0.096003</td>\n",
       "      <td>0.003759</td>\n",
       "      <td>0.003759</td>\n",
       "      <td>0.034962</td>\n",
       "      <td>0.015414</td>\n",
       "      <td>0.000000</td>\n",
       "      <td>0.081955</td>\n",
       "      <td>...</td>\n",
       "      <td>-0.099631</td>\n",
       "      <td>-0.094915</td>\n",
       "      <td>-0.091281</td>\n",
       "      <td>-0.105641</td>\n",
       "      <td>-0.092207</td>\n",
       "      <td>-0.091567</td>\n",
       "      <td>-0.084808</td>\n",
       "      <td>-0.092824</td>\n",
       "      <td>-0.094912</td>\n",
       "      <td>主板</td>\n",
       "    </tr>\n",
       "    <tr>\n",
       "      <th>4115</th>\n",
       "      <td>2022-01-21</td>\n",
       "      <td>603337.SH</td>\n",
       "      <td>实施</td>\n",
       "      <td>0.096003</td>\n",
       "      <td>0.003759</td>\n",
       "      <td>0.003759</td>\n",
       "      <td>0.034962</td>\n",
       "      <td>0.015414</td>\n",
       "      <td>0.000000</td>\n",
       "      <td>0.081955</td>\n",
       "      <td>...</td>\n",
       "      <td>-0.099631</td>\n",
       "      <td>-0.094915</td>\n",
       "      <td>-0.091281</td>\n",
       "      <td>-0.105641</td>\n",
       "      <td>-0.092207</td>\n",
       "      <td>-0.091567</td>\n",
       "      <td>-0.084808</td>\n",
       "      <td>-0.092824</td>\n",
       "      <td>-0.094912</td>\n",
       "      <td>主板</td>\n",
       "    </tr>\n",
       "    <tr>\n",
       "      <th>1538</th>\n",
       "      <td>2017-09-02</td>\n",
       "      <td>600318.SH</td>\n",
       "      <td>停止实施</td>\n",
       "      <td>0.092105</td>\n",
       "      <td>-0.052711</td>\n",
       "      <td>-0.052711</td>\n",
       "      <td>0.042169</td>\n",
       "      <td>0.070783</td>\n",
       "      <td>0.024849</td>\n",
       "      <td>0.020331</td>\n",
       "      <td>...</td>\n",
       "      <td>-0.074615</td>\n",
       "      <td>-0.056225</td>\n",
       "      <td>-0.052666</td>\n",
       "      <td>-0.037084</td>\n",
       "      <td>-0.043984</td>\n",
       "      <td>-0.046763</td>\n",
       "      <td>-0.037998</td>\n",
       "      <td>-0.044175</td>\n",
       "      <td>-0.042173</td>\n",
       "      <td>主板</td>\n",
       "    </tr>\n",
       "    <tr>\n",
       "      <th>2797</th>\n",
       "      <td>2020-06-24</td>\n",
       "      <td>603337.SH</td>\n",
       "      <td>实施</td>\n",
       "      <td>0.089267</td>\n",
       "      <td>0.009756</td>\n",
       "      <td>0.009756</td>\n",
       "      <td>0.060976</td>\n",
       "      <td>0.068293</td>\n",
       "      <td>0.102439</td>\n",
       "      <td>0.058537</td>\n",
       "      <td>...</td>\n",
       "      <td>0.163562</td>\n",
       "      <td>0.145402</td>\n",
       "      <td>0.145769</td>\n",
       "      <td>0.131218</td>\n",
       "      <td>0.141781</td>\n",
       "      <td>0.144347</td>\n",
       "      <td>0.141909</td>\n",
       "      <td>0.154808</td>\n",
       "      <td>0.150989</td>\n",
       "      <td>主板</td>\n",
       "    </tr>\n",
       "    <tr>\n",
       "      <th>4250</th>\n",
       "      <td>2022-03-22</td>\n",
       "      <td>603399.SH</td>\n",
       "      <td>实施</td>\n",
       "      <td>0.088296</td>\n",
       "      <td>0.010849</td>\n",
       "      <td>0.010849</td>\n",
       "      <td>0.111792</td>\n",
       "      <td>0.178302</td>\n",
       "      <td>0.296226</td>\n",
       "      <td>0.166509</td>\n",
       "      <td>...</td>\n",
       "      <td>-0.040013</td>\n",
       "      <td>-0.037873</td>\n",
       "      <td>-0.037032</td>\n",
       "      <td>-0.023979</td>\n",
       "      <td>-0.021293</td>\n",
       "      <td>-0.027497</td>\n",
       "      <td>-0.020025</td>\n",
       "      <td>-0.018174</td>\n",
       "      <td>-0.028388</td>\n",
       "      <td>主板</td>\n",
       "    </tr>\n",
       "    <tr>\n",
       "      <th>4251</th>\n",
       "      <td>2022-03-22</td>\n",
       "      <td>603399.SH</td>\n",
       "      <td>实施</td>\n",
       "      <td>0.088296</td>\n",
       "      <td>0.010849</td>\n",
       "      <td>0.010849</td>\n",
       "      <td>0.111792</td>\n",
       "      <td>0.178302</td>\n",
       "      <td>0.296226</td>\n",
       "      <td>0.166509</td>\n",
       "      <td>...</td>\n",
       "      <td>-0.040013</td>\n",
       "      <td>-0.037873</td>\n",
       "      <td>-0.037032</td>\n",
       "      <td>-0.023979</td>\n",
       "      <td>-0.021293</td>\n",
       "      <td>-0.027497</td>\n",
       "      <td>-0.020025</td>\n",
       "      <td>-0.018174</td>\n",
       "      <td>-0.028388</td>\n",
       "      <td>主板</td>\n",
       "    </tr>\n",
       "    <tr>\n",
       "      <th>835</th>\n",
       "      <td>2015-08-05</td>\n",
       "      <td>603002.SH</td>\n",
       "      <td>实施</td>\n",
       "      <td>0.088203</td>\n",
       "      <td>-0.051672</td>\n",
       "      <td>-0.051672</td>\n",
       "      <td>-0.078014</td>\n",
       "      <td>0.014184</td>\n",
       "      <td>0.101317</td>\n",
       "      <td>0.108409</td>\n",
       "      <td>...</td>\n",
       "      <td>-0.157787</td>\n",
       "      <td>-0.167015</td>\n",
       "      <td>-0.197757</td>\n",
       "      <td>-0.186780</td>\n",
       "      <td>-0.179550</td>\n",
       "      <td>-0.235805</td>\n",
       "      <td>-0.242291</td>\n",
       "      <td>-0.270655</td>\n",
       "      <td>-0.244886</td>\n",
       "      <td>主板</td>\n",
       "    </tr>\n",
       "    <tr>\n",
       "      <th>2675</th>\n",
       "      <td>2020-03-20</td>\n",
       "      <td>002727.SZ</td>\n",
       "      <td>实施</td>\n",
       "      <td>0.087756</td>\n",
       "      <td>0.011111</td>\n",
       "      <td>0.011111</td>\n",
       "      <td>0.094203</td>\n",
       "      <td>0.136715</td>\n",
       "      <td>0.164251</td>\n",
       "      <td>0.176329</td>\n",
       "      <td>...</td>\n",
       "      <td>0.310010</td>\n",
       "      <td>0.311942</td>\n",
       "      <td>0.301896</td>\n",
       "      <td>0.293218</td>\n",
       "      <td>0.267424</td>\n",
       "      <td>0.275195</td>\n",
       "      <td>0.242097</td>\n",
       "      <td>0.224359</td>\n",
       "      <td>0.239311</td>\n",
       "      <td>中小板</td>\n",
       "    </tr>\n",
       "    <tr>\n",
       "      <th>663</th>\n",
       "      <td>2014-09-16</td>\n",
       "      <td>600523.SH</td>\n",
       "      <td>实施</td>\n",
       "      <td>0.086652</td>\n",
       "      <td>-0.012382</td>\n",
       "      <td>-0.012382</td>\n",
       "      <td>-0.077266</td>\n",
       "      <td>-0.076275</td>\n",
       "      <td>-0.081724</td>\n",
       "      <td>-0.128281</td>\n",
       "      <td>...</td>\n",
       "      <td>0.340675</td>\n",
       "      <td>0.361232</td>\n",
       "      <td>0.367040</td>\n",
       "      <td>0.367360</td>\n",
       "      <td>0.378026</td>\n",
       "      <td>0.392522</td>\n",
       "      <td>0.431173</td>\n",
       "      <td>0.450990</td>\n",
       "      <td>0.481554</td>\n",
       "      <td>主板</td>\n",
       "    </tr>\n",
       "    <tr>\n",
       "      <th>3541</th>\n",
       "      <td>2021-05-26</td>\n",
       "      <td>002585.SZ</td>\n",
       "      <td>实施</td>\n",
       "      <td>0.086574</td>\n",
       "      <td>0.012154</td>\n",
       "      <td>0.012154</td>\n",
       "      <td>-0.053342</td>\n",
       "      <td>-0.043889</td>\n",
       "      <td>0.051992</td>\n",
       "      <td>0.087103</td>\n",
       "      <td>...</td>\n",
       "      <td>0.002317</td>\n",
       "      <td>-0.001001</td>\n",
       "      <td>0.011211</td>\n",
       "      <td>0.013797</td>\n",
       "      <td>0.011143</td>\n",
       "      <td>0.006922</td>\n",
       "      <td>0.014550</td>\n",
       "      <td>0.007975</td>\n",
       "      <td>0.019411</td>\n",
       "      <td>中小板</td>\n",
       "    </tr>\n",
       "    <tr>\n",
       "      <th>880</th>\n",
       "      <td>2015-09-22</td>\n",
       "      <td>601199.SH</td>\n",
       "      <td>停止实施</td>\n",
       "      <td>0.084672</td>\n",
       "      <td>-0.021198</td>\n",
       "      <td>-0.021198</td>\n",
       "      <td>-0.006057</td>\n",
       "      <td>0.005047</td>\n",
       "      <td>-0.001682</td>\n",
       "      <td>0.024563</td>\n",
       "      <td>...</td>\n",
       "      <td>-0.080875</td>\n",
       "      <td>-0.081649</td>\n",
       "      <td>-0.056795</td>\n",
       "      <td>-0.059917</td>\n",
       "      <td>-0.063403</td>\n",
       "      <td>-0.040439</td>\n",
       "      <td>-0.013869</td>\n",
       "      <td>0.011704</td>\n",
       "      <td>0.007109</td>\n",
       "      <td>主板</td>\n",
       "    </tr>\n",
       "    <tr>\n",
       "      <th>4190</th>\n",
       "      <td>2022-02-24</td>\n",
       "      <td>603027.SH</td>\n",
       "      <td>实施</td>\n",
       "      <td>0.084435</td>\n",
       "      <td>-0.013602</td>\n",
       "      <td>-0.013602</td>\n",
       "      <td>-0.023452</td>\n",
       "      <td>-0.036116</td>\n",
       "      <td>-0.031895</td>\n",
       "      <td>-0.041745</td>\n",
       "      <td>...</td>\n",
       "      <td>-0.071951</td>\n",
       "      <td>-0.069232</td>\n",
       "      <td>-0.073896</td>\n",
       "      <td>-0.058302</td>\n",
       "      <td>-0.061241</td>\n",
       "      <td>-0.058937</td>\n",
       "      <td>-0.056714</td>\n",
       "      <td>-0.051247</td>\n",
       "      <td>-0.054630</td>\n",
       "      <td>主板</td>\n",
       "    </tr>\n",
       "    <tr>\n",
       "      <th>788</th>\n",
       "      <td>2015-05-28</td>\n",
       "      <td>002650.SZ</td>\n",
       "      <td>实施</td>\n",
       "      <td>0.083465</td>\n",
       "      <td>-0.091663</td>\n",
       "      <td>-0.091663</td>\n",
       "      <td>-0.029254</td>\n",
       "      <td>0.047294</td>\n",
       "      <td>0.050219</td>\n",
       "      <td>0.085324</td>\n",
       "      <td>...</td>\n",
       "      <td>-0.255042</td>\n",
       "      <td>-0.257421</td>\n",
       "      <td>-0.269230</td>\n",
       "      <td>-0.258390</td>\n",
       "      <td>-0.262184</td>\n",
       "      <td>-0.272684</td>\n",
       "      <td>-0.256229</td>\n",
       "      <td>-0.249456</td>\n",
       "      <td>-0.254517</td>\n",
       "      <td>中小板</td>\n",
       "    </tr>\n",
       "    <tr>\n",
       "      <th>2890</th>\n",
       "      <td>2020-08-29</td>\n",
       "      <td>603757.SH</td>\n",
       "      <td>实施</td>\n",
       "      <td>0.082766</td>\n",
       "      <td>0.015707</td>\n",
       "      <td>0.015707</td>\n",
       "      <td>0.117277</td>\n",
       "      <td>0.167539</td>\n",
       "      <td>0.254974</td>\n",
       "      <td>0.380628</td>\n",
       "      <td>...</td>\n",
       "      <td>0.065010</td>\n",
       "      <td>0.073416</td>\n",
       "      <td>0.053002</td>\n",
       "      <td>0.048719</td>\n",
       "      <td>0.028487</td>\n",
       "      <td>0.028969</td>\n",
       "      <td>0.008812</td>\n",
       "      <td>0.027864</td>\n",
       "      <td>0.017473</td>\n",
       "      <td>主板</td>\n",
       "    </tr>\n",
       "    <tr>\n",
       "      <th>1989</th>\n",
       "      <td>2018-07-27</td>\n",
       "      <td>000971.SZ</td>\n",
       "      <td>董事会预案</td>\n",
       "      <td>0.081448</td>\n",
       "      <td>-0.104603</td>\n",
       "      <td>-0.104603</td>\n",
       "      <td>-0.152720</td>\n",
       "      <td>-0.138075</td>\n",
       "      <td>-0.161088</td>\n",
       "      <td>-0.228033</td>\n",
       "      <td>...</td>\n",
       "      <td>-0.152860</td>\n",
       "      <td>-0.146503</td>\n",
       "      <td>-0.152570</td>\n",
       "      <td>-0.139252</td>\n",
       "      <td>-0.140013</td>\n",
       "      <td>-0.146122</td>\n",
       "      <td>-0.135184</td>\n",
       "      <td>-0.130367</td>\n",
       "      <td>-0.141183</td>\n",
       "      <td>主板</td>\n",
       "    </tr>\n",
       "    <tr>\n",
       "      <th>84</th>\n",
       "      <td>2011-04-08</td>\n",
       "      <td>600697.SH</td>\n",
       "      <td>股东大会通过</td>\n",
       "      <td>0.077993</td>\n",
       "      <td>-0.023438</td>\n",
       "      <td>-0.023438</td>\n",
       "      <td>-0.021739</td>\n",
       "      <td>-0.028533</td>\n",
       "      <td>-0.015285</td>\n",
       "      <td>-0.006454</td>\n",
       "      <td>...</td>\n",
       "      <td>-0.167549</td>\n",
       "      <td>-0.166633</td>\n",
       "      <td>-0.183097</td>\n",
       "      <td>-0.179390</td>\n",
       "      <td>-0.155130</td>\n",
       "      <td>-0.180369</td>\n",
       "      <td>-0.186023</td>\n",
       "      <td>-0.201676</td>\n",
       "      <td>-0.195664</td>\n",
       "      <td>主板</td>\n",
       "    </tr>\n",
       "    <tr>\n",
       "      <th>814</th>\n",
       "      <td>2015-07-15</td>\n",
       "      <td>600172.SH</td>\n",
       "      <td>停止实施</td>\n",
       "      <td>0.077258</td>\n",
       "      <td>-0.118687</td>\n",
       "      <td>-0.118687</td>\n",
       "      <td>-0.089394</td>\n",
       "      <td>-0.023737</td>\n",
       "      <td>0.059596</td>\n",
       "      <td>0.143939</td>\n",
       "      <td>...</td>\n",
       "      <td>-0.002920</td>\n",
       "      <td>0.006992</td>\n",
       "      <td>0.013945</td>\n",
       "      <td>0.000048</td>\n",
       "      <td>-0.078026</td>\n",
       "      <td>-0.087690</td>\n",
       "      <td>-0.066619</td>\n",
       "      <td>-0.139952</td>\n",
       "      <td>-0.128339</td>\n",
       "      <td>主板</td>\n",
       "    </tr>\n",
       "    <tr>\n",
       "      <th>720</th>\n",
       "      <td>2014-12-16</td>\n",
       "      <td>002344.SZ</td>\n",
       "      <td>停止实施</td>\n",
       "      <td>0.077160</td>\n",
       "      <td>-0.094556</td>\n",
       "      <td>-0.094556</td>\n",
       "      <td>-0.123782</td>\n",
       "      <td>-0.084241</td>\n",
       "      <td>-0.069341</td>\n",
       "      <td>-0.115759</td>\n",
       "      <td>...</td>\n",
       "      <td>0.833942</td>\n",
       "      <td>0.838511</td>\n",
       "      <td>0.841448</td>\n",
       "      <td>0.863855</td>\n",
       "      <td>0.865628</td>\n",
       "      <td>0.859802</td>\n",
       "      <td>0.879542</td>\n",
       "      <td>0.898300</td>\n",
       "      <td>0.920637</td>\n",
       "      <td>中小板</td>\n",
       "    </tr>\n",
       "    <tr>\n",
       "      <th>605</th>\n",
       "      <td>2014-05-29</td>\n",
       "      <td>600998.SH</td>\n",
       "      <td>实施</td>\n",
       "      <td>0.075668</td>\n",
       "      <td>-0.006207</td>\n",
       "      <td>-0.006207</td>\n",
       "      <td>-0.023448</td>\n",
       "      <td>-0.013103</td>\n",
       "      <td>-0.008276</td>\n",
       "      <td>-0.013793</td>\n",
       "      <td>...</td>\n",
       "      <td>0.234593</td>\n",
       "      <td>0.253255</td>\n",
       "      <td>0.241648</td>\n",
       "      <td>0.240017</td>\n",
       "      <td>0.245001</td>\n",
       "      <td>0.241882</td>\n",
       "      <td>0.245333</td>\n",
       "      <td>0.244301</td>\n",
       "      <td>0.261624</td>\n",
       "      <td>主板</td>\n",
       "    </tr>\n",
       "  </tbody>\n",
       "</table>\n",
       "<p>20 rows × 246 columns</p>\n",
       "</div>"
      ],
      "text/plain": [
       "           date       code  status  open_ret   d1_fall   equity1   equity2  \\\n",
       "1955 2018-07-09  002583.SZ      实施  0.096732 -0.023838 -0.023838 -0.009535   \n",
       "4114 2022-01-21  603337.SH      实施  0.096003  0.003759  0.003759  0.034962   \n",
       "4115 2022-01-21  603337.SH      实施  0.096003  0.003759  0.003759  0.034962   \n",
       "1538 2017-09-02  600318.SH    停止实施  0.092105 -0.052711 -0.052711  0.042169   \n",
       "2797 2020-06-24  603337.SH      实施  0.089267  0.009756  0.009756  0.060976   \n",
       "4250 2022-03-22  603399.SH      实施  0.088296  0.010849  0.010849  0.111792   \n",
       "4251 2022-03-22  603399.SH      实施  0.088296  0.010849  0.010849  0.111792   \n",
       "835  2015-08-05  603002.SH      实施  0.088203 -0.051672 -0.051672 -0.078014   \n",
       "2675 2020-03-20  002727.SZ      实施  0.087756  0.011111  0.011111  0.094203   \n",
       "663  2014-09-16  600523.SH      实施  0.086652 -0.012382 -0.012382 -0.077266   \n",
       "3541 2021-05-26  002585.SZ      实施  0.086574  0.012154  0.012154 -0.053342   \n",
       "880  2015-09-22  601199.SH    停止实施  0.084672 -0.021198 -0.021198 -0.006057   \n",
       "4190 2022-02-24  603027.SH      实施  0.084435 -0.013602 -0.013602 -0.023452   \n",
       "788  2015-05-28  002650.SZ      实施  0.083465 -0.091663 -0.091663 -0.029254   \n",
       "2890 2020-08-29  603757.SH      实施  0.082766  0.015707  0.015707  0.117277   \n",
       "1989 2018-07-27  000971.SZ   董事会预案  0.081448 -0.104603 -0.104603 -0.152720   \n",
       "84   2011-04-08  600697.SH  股东大会通过  0.077993 -0.023438 -0.023438 -0.021739   \n",
       "814  2015-07-15  600172.SH    停止实施  0.077258 -0.118687 -0.118687 -0.089394   \n",
       "720  2014-12-16  002344.SZ    停止实施  0.077160 -0.094556 -0.094556 -0.123782   \n",
       "605  2014-05-29  600998.SH      实施  0.075668 -0.006207 -0.006207 -0.023448   \n",
       "\n",
       "       equity3   equity4   equity5  ...  index112  index113  index114  \\\n",
       "1955 -0.022646  0.051251  0.091776  ... -0.114204 -0.115888 -0.124565   \n",
       "4114  0.015414  0.000000  0.081955  ... -0.099631 -0.094915 -0.091281   \n",
       "4115  0.015414  0.000000  0.081955  ... -0.099631 -0.094915 -0.091281   \n",
       "1538  0.070783  0.024849  0.020331  ... -0.074615 -0.056225 -0.052666   \n",
       "2797  0.068293  0.102439  0.058537  ...  0.163562  0.145402  0.145769   \n",
       "4250  0.178302  0.296226  0.166509  ... -0.040013 -0.037873 -0.037032   \n",
       "4251  0.178302  0.296226  0.166509  ... -0.040013 -0.037873 -0.037032   \n",
       "835   0.014184  0.101317  0.108409  ... -0.157787 -0.167015 -0.197757   \n",
       "2675  0.136715  0.164251  0.176329  ...  0.310010  0.311942  0.301896   \n",
       "663  -0.076275 -0.081724 -0.128281  ...  0.340675  0.361232  0.367040   \n",
       "3541 -0.043889  0.051992  0.087103  ...  0.002317 -0.001001  0.011211   \n",
       "880   0.005047 -0.001682  0.024563  ... -0.080875 -0.081649 -0.056795   \n",
       "4190 -0.036116 -0.031895 -0.041745  ... -0.071951 -0.069232 -0.073896   \n",
       "788   0.047294  0.050219  0.085324  ... -0.255042 -0.257421 -0.269230   \n",
       "2890  0.167539  0.254974  0.380628  ...  0.065010  0.073416  0.053002   \n",
       "1989 -0.138075 -0.161088 -0.228033  ... -0.152860 -0.146503 -0.152570   \n",
       "84   -0.028533 -0.015285 -0.006454  ... -0.167549 -0.166633 -0.183097   \n",
       "814  -0.023737  0.059596  0.143939  ... -0.002920  0.006992  0.013945   \n",
       "720  -0.084241 -0.069341 -0.115759  ...  0.833942  0.838511  0.841448   \n",
       "605  -0.013103 -0.008276 -0.013793  ...  0.234593  0.253255  0.241648   \n",
       "\n",
       "      index115  index116  index117  index118  index119  index120  sector  \n",
       "1955 -0.119340 -0.127010 -0.130490 -0.138336 -0.134726 -0.143040     中小板  \n",
       "4114 -0.105641 -0.092207 -0.091567 -0.084808 -0.092824 -0.094912      主板  \n",
       "4115 -0.105641 -0.092207 -0.091567 -0.084808 -0.092824 -0.094912      主板  \n",
       "1538 -0.037084 -0.043984 -0.046763 -0.037998 -0.044175 -0.042173      主板  \n",
       "2797  0.131218  0.141781  0.144347  0.141909  0.154808  0.150989      主板  \n",
       "4250 -0.023979 -0.021293 -0.027497 -0.020025 -0.018174 -0.028388      主板  \n",
       "4251 -0.023979 -0.021293 -0.027497 -0.020025 -0.018174 -0.028388      主板  \n",
       "835  -0.186780 -0.179550 -0.235805 -0.242291 -0.270655 -0.244886      主板  \n",
       "2675  0.293218  0.267424  0.275195  0.242097  0.224359  0.239311     中小板  \n",
       "663   0.367360  0.378026  0.392522  0.431173  0.450990  0.481554      主板  \n",
       "3541  0.013797  0.011143  0.006922  0.014550  0.007975  0.019411     中小板  \n",
       "880  -0.059917 -0.063403 -0.040439 -0.013869  0.011704  0.007109      主板  \n",
       "4190 -0.058302 -0.061241 -0.058937 -0.056714 -0.051247 -0.054630      主板  \n",
       "788  -0.258390 -0.262184 -0.272684 -0.256229 -0.249456 -0.254517     中小板  \n",
       "2890  0.048719  0.028487  0.028969  0.008812  0.027864  0.017473      主板  \n",
       "1989 -0.139252 -0.140013 -0.146122 -0.135184 -0.130367 -0.141183      主板  \n",
       "84   -0.179390 -0.155130 -0.180369 -0.186023 -0.201676 -0.195664      主板  \n",
       "814   0.000048 -0.078026 -0.087690 -0.066619 -0.139952 -0.128339      主板  \n",
       "720   0.863855  0.865628  0.859802  0.879542  0.898300  0.920637     中小板  \n",
       "605   0.240017  0.245001  0.241882  0.245333  0.244301  0.261624      主板  \n",
       "\n",
       "[20 rows x 246 columns]"
      ]
     },
     "execution_count": 302,
     "metadata": {},
     "output_type": "execute_result"
    }
   ],
   "source": [
    "filtered_ret.sort_values('open_ret', ascending=False).head(20)"
   ]
  },
  {
   "cell_type": "code",
   "execution_count": 266,
   "id": "e33d5628",
   "metadata": {
    "scrolled": true
   },
   "outputs": [
    {
     "data": {
      "text/html": [
       "<div>\n",
       "<style scoped>\n",
       "    .dataframe tbody tr th:only-of-type {\n",
       "        vertical-align: middle;\n",
       "    }\n",
       "\n",
       "    .dataframe tbody tr th {\n",
       "        vertical-align: top;\n",
       "    }\n",
       "\n",
       "    .dataframe thead th {\n",
       "        text-align: right;\n",
       "    }\n",
       "</style>\n",
       "<table border=\"1\" class=\"dataframe\">\n",
       "  <thead>\n",
       "    <tr style=\"text-align: right;\">\n",
       "      <th></th>\n",
       "      <th>date</th>\n",
       "      <th>code</th>\n",
       "      <th>equity120</th>\n",
       "    </tr>\n",
       "  </thead>\n",
       "  <tbody>\n",
       "    <tr>\n",
       "      <th>3899</th>\n",
       "      <td>2021-10-29</td>\n",
       "      <td>002432.SZ</td>\n",
       "      <td>11.564103</td>\n",
       "    </tr>\n",
       "    <tr>\n",
       "      <th>665</th>\n",
       "      <td>2014-09-20</td>\n",
       "      <td>300208.SZ</td>\n",
       "      <td>5.360436</td>\n",
       "    </tr>\n",
       "    <tr>\n",
       "      <th>2576</th>\n",
       "      <td>2019-12-16</td>\n",
       "      <td>300677.SZ</td>\n",
       "      <td>5.270389</td>\n",
       "    </tr>\n",
       "    <tr>\n",
       "      <th>664</th>\n",
       "      <td>2014-09-18</td>\n",
       "      <td>300059.SZ</td>\n",
       "      <td>5.268657</td>\n",
       "    </tr>\n",
       "    <tr>\n",
       "      <th>3480</th>\n",
       "      <td>2021-04-27</td>\n",
       "      <td>300432.SZ</td>\n",
       "      <td>4.513228</td>\n",
       "    </tr>\n",
       "    <tr>\n",
       "      <th>...</th>\n",
       "      <td>...</td>\n",
       "      <td>...</td>\n",
       "      <td>...</td>\n",
       "    </tr>\n",
       "    <tr>\n",
       "      <th>1171</th>\n",
       "      <td>2016-10-21</td>\n",
       "      <td>002787.SZ</td>\n",
       "      <td>-0.720411</td>\n",
       "    </tr>\n",
       "    <tr>\n",
       "      <th>125</th>\n",
       "      <td>2011-07-21</td>\n",
       "      <td>002042.SZ</td>\n",
       "      <td>-0.729479</td>\n",
       "    </tr>\n",
       "    <tr>\n",
       "      <th>785</th>\n",
       "      <td>2015-05-21</td>\n",
       "      <td>300075.SZ</td>\n",
       "      <td>-0.755167</td>\n",
       "    </tr>\n",
       "    <tr>\n",
       "      <th>1164</th>\n",
       "      <td>2016-10-15</td>\n",
       "      <td>603636.SH</td>\n",
       "      <td>-0.761004</td>\n",
       "    </tr>\n",
       "    <tr>\n",
       "      <th>1744</th>\n",
       "      <td>2018-01-31</td>\n",
       "      <td>002622.SZ</td>\n",
       "      <td>-0.801808</td>\n",
       "    </tr>\n",
       "  </tbody>\n",
       "</table>\n",
       "<p>3993 rows × 3 columns</p>\n",
       "</div>"
      ],
      "text/plain": [
       "           date       code  equity120\n",
       "3899 2021-10-29  002432.SZ  11.564103\n",
       "665  2014-09-20  300208.SZ   5.360436\n",
       "2576 2019-12-16  300677.SZ   5.270389\n",
       "664  2014-09-18  300059.SZ   5.268657\n",
       "3480 2021-04-27  300432.SZ   4.513228\n",
       "...         ...        ...        ...\n",
       "1171 2016-10-21  002787.SZ  -0.720411\n",
       "125  2011-07-21  002042.SZ  -0.729479\n",
       "785  2015-05-21  300075.SZ  -0.755167\n",
       "1164 2016-10-15  603636.SH  -0.761004\n",
       "1744 2018-01-31  002622.SZ  -0.801808\n",
       "\n",
       "[3993 rows x 3 columns]"
      ]
     },
     "execution_count": 266,
     "metadata": {},
     "output_type": "execute_result"
    }
   ],
   "source": [
    "abs_ret.sort_values('equity120',ascending=False)[['date','code', 'equity120']]"
   ]
  },
  {
   "cell_type": "markdown",
   "id": "fbb51dd8",
   "metadata": {},
   "source": [
    "#### 未~~剔除上市不满六个月~~以及~~第一个交易日无法交易的~~样本"
   ]
  },
  {
   "cell_type": "code",
   "execution_count": 314,
   "id": "5fc4348e",
   "metadata": {
    "scrolled": true
   },
   "outputs": [
    {
     "data": {
      "text/html": [
       "<div>\n",
       "<style scoped>\n",
       "    .dataframe tbody tr th:only-of-type {\n",
       "        vertical-align: middle;\n",
       "    }\n",
       "\n",
       "    .dataframe tbody tr th {\n",
       "        vertical-align: top;\n",
       "    }\n",
       "\n",
       "    .dataframe thead th {\n",
       "        text-align: right;\n",
       "    }\n",
       "</style>\n",
       "<table border=\"1\" class=\"dataframe\">\n",
       "  <thead>\n",
       "    <tr style=\"text-align: right;\">\n",
       "      <th></th>\n",
       "      <th>date</th>\n",
       "      <th>code</th>\n",
       "      <th>status</th>\n",
       "      <th>open_ret</th>\n",
       "      <th>d1_fall</th>\n",
       "      <th>equity1</th>\n",
       "      <th>equity2</th>\n",
       "      <th>equity3</th>\n",
       "      <th>equity4</th>\n",
       "      <th>equity5</th>\n",
       "      <th>...</th>\n",
       "      <th>index112</th>\n",
       "      <th>index113</th>\n",
       "      <th>index114</th>\n",
       "      <th>index115</th>\n",
       "      <th>index116</th>\n",
       "      <th>index117</th>\n",
       "      <th>index118</th>\n",
       "      <th>index119</th>\n",
       "      <th>index120</th>\n",
       "      <th>sector</th>\n",
       "    </tr>\n",
       "  </thead>\n",
       "  <tbody>\n",
       "    <tr>\n",
       "      <th>23</th>\n",
       "      <td>2010-07-13</td>\n",
       "      <td>002146.SZ</td>\n",
       "      <td>实施</td>\n",
       "      <td>0.015414</td>\n",
       "      <td>-0.011385</td>\n",
       "      <td>-0.011385</td>\n",
       "      <td>-0.010436</td>\n",
       "      <td>-0.010436</td>\n",
       "      <td>0.001898</td>\n",
       "      <td>0.036053</td>\n",
       "      <td>...</td>\n",
       "      <td>0.213303</td>\n",
       "      <td>0.189391</td>\n",
       "      <td>0.201681</td>\n",
       "      <td>0.204192</td>\n",
       "      <td>0.230103</td>\n",
       "      <td>0.251445</td>\n",
       "      <td>0.249390</td>\n",
       "      <td>0.243224</td>\n",
       "      <td>0.241920</td>\n",
       "      <td>中小板</td>\n",
       "    </tr>\n",
       "    <tr>\n",
       "      <th>24</th>\n",
       "      <td>2010-07-28</td>\n",
       "      <td>600496.SH</td>\n",
       "      <td>实施</td>\n",
       "      <td>0.062069</td>\n",
       "      <td>-0.016698</td>\n",
       "      <td>-0.016698</td>\n",
       "      <td>-0.009276</td>\n",
       "      <td>-0.025974</td>\n",
       "      <td>0.012059</td>\n",
       "      <td>0.008349</td>\n",
       "      <td>...</td>\n",
       "      <td>0.153608</td>\n",
       "      <td>0.153107</td>\n",
       "      <td>0.132812</td>\n",
       "      <td>0.087949</td>\n",
       "      <td>0.090535</td>\n",
       "      <td>0.115798</td>\n",
       "      <td>0.078384</td>\n",
       "      <td>0.089825</td>\n",
       "      <td>0.073340</td>\n",
       "      <td>主板</td>\n",
       "    </tr>\n",
       "    <tr>\n",
       "      <th>25</th>\n",
       "      <td>2010-07-29</td>\n",
       "      <td>002139.SZ</td>\n",
       "      <td>停止实施</td>\n",
       "      <td>0.004494</td>\n",
       "      <td>0.001119</td>\n",
       "      <td>0.001119</td>\n",
       "      <td>-0.007271</td>\n",
       "      <td>0.003915</td>\n",
       "      <td>-0.027405</td>\n",
       "      <td>-0.024049</td>\n",
       "      <td>...</td>\n",
       "      <td>0.124624</td>\n",
       "      <td>0.104830</td>\n",
       "      <td>0.061076</td>\n",
       "      <td>0.063597</td>\n",
       "      <td>0.088236</td>\n",
       "      <td>0.051746</td>\n",
       "      <td>0.062905</td>\n",
       "      <td>0.046827</td>\n",
       "      <td>0.036947</td>\n",
       "      <td>中小板</td>\n",
       "    </tr>\n",
       "    <tr>\n",
       "      <th>26</th>\n",
       "      <td>2010-07-29</td>\n",
       "      <td>600067.SH</td>\n",
       "      <td>实施</td>\n",
       "      <td>0.025024</td>\n",
       "      <td>0.026291</td>\n",
       "      <td>0.026291</td>\n",
       "      <td>0.030986</td>\n",
       "      <td>0.067606</td>\n",
       "      <td>0.023474</td>\n",
       "      <td>0.015962</td>\n",
       "      <td>...</td>\n",
       "      <td>0.124624</td>\n",
       "      <td>0.104830</td>\n",
       "      <td>0.061076</td>\n",
       "      <td>0.063597</td>\n",
       "      <td>0.088236</td>\n",
       "      <td>0.051746</td>\n",
       "      <td>0.062905</td>\n",
       "      <td>0.046827</td>\n",
       "      <td>0.036947</td>\n",
       "      <td>主板</td>\n",
       "    </tr>\n",
       "    <tr>\n",
       "      <th>27</th>\n",
       "      <td>2010-08-11</td>\n",
       "      <td>000826.SZ</td>\n",
       "      <td>实施</td>\n",
       "      <td>-0.006772</td>\n",
       "      <td>0.061818</td>\n",
       "      <td>0.061818</td>\n",
       "      <td>0.043182</td>\n",
       "      <td>0.039091</td>\n",
       "      <td>0.059545</td>\n",
       "      <td>0.074091</td>\n",
       "      <td>...</td>\n",
       "      <td>0.056120</td>\n",
       "      <td>0.073358</td>\n",
       "      <td>0.080129</td>\n",
       "      <td>0.094471</td>\n",
       "      <td>0.095958</td>\n",
       "      <td>0.086638</td>\n",
       "      <td>0.112099</td>\n",
       "      <td>0.120530</td>\n",
       "      <td>0.149150</td>\n",
       "      <td>主板</td>\n",
       "    </tr>\n",
       "  </tbody>\n",
       "</table>\n",
       "<p>5 rows × 246 columns</p>\n",
       "</div>"
      ],
      "text/plain": [
       "         date       code status  open_ret   d1_fall   equity1   equity2  \\\n",
       "23 2010-07-13  002146.SZ     实施  0.015414 -0.011385 -0.011385 -0.010436   \n",
       "24 2010-07-28  600496.SH     实施  0.062069 -0.016698 -0.016698 -0.009276   \n",
       "25 2010-07-29  002139.SZ   停止实施  0.004494  0.001119  0.001119 -0.007271   \n",
       "26 2010-07-29  600067.SH     实施  0.025024  0.026291  0.026291  0.030986   \n",
       "27 2010-08-11  000826.SZ     实施 -0.006772  0.061818  0.061818  0.043182   \n",
       "\n",
       "     equity3   equity4   equity5  ...  index112  index113  index114  index115  \\\n",
       "23 -0.010436  0.001898  0.036053  ...  0.213303  0.189391  0.201681  0.204192   \n",
       "24 -0.025974  0.012059  0.008349  ...  0.153608  0.153107  0.132812  0.087949   \n",
       "25  0.003915 -0.027405 -0.024049  ...  0.124624  0.104830  0.061076  0.063597   \n",
       "26  0.067606  0.023474  0.015962  ...  0.124624  0.104830  0.061076  0.063597   \n",
       "27  0.039091  0.059545  0.074091  ...  0.056120  0.073358  0.080129  0.094471   \n",
       "\n",
       "    index116  index117  index118  index119  index120  sector  \n",
       "23  0.230103  0.251445  0.249390  0.243224  0.241920     中小板  \n",
       "24  0.090535  0.115798  0.078384  0.089825  0.073340      主板  \n",
       "25  0.088236  0.051746  0.062905  0.046827  0.036947     中小板  \n",
       "26  0.088236  0.051746  0.062905  0.046827  0.036947      主板  \n",
       "27  0.095958  0.086638  0.112099  0.120530  0.149150      主板  \n",
       "\n",
       "[5 rows x 246 columns]"
      ]
     },
     "execution_count": 314,
     "metadata": {},
     "output_type": "execute_result"
    }
   ],
   "source": [
    "abs_ret.head()"
   ]
  },
  {
   "cell_type": "code",
   "execution_count": 315,
   "id": "2e680449",
   "metadata": {},
   "outputs": [
    {
     "data": {
      "text/plain": [
       "0.004404399766255416"
      ]
     },
     "execution_count": 315,
     "metadata": {},
     "output_type": "execute_result"
    }
   ],
   "source": [
    "np.mean(abs_ret.d1_fall)"
   ]
  },
  {
   "cell_type": "code",
   "execution_count": 438,
   "id": "a4d7689a",
   "metadata": {},
   "outputs": [
    {
     "data": {
      "image/png": "[encoded data removed]",
      "text/plain": [
       "<Figure size 360x360 with 1 Axes>"
      ]
     },
     "metadata": {},
     "output_type": "display_data"
    }
   ],
   "source": [
    "sns.displot(abs_ret.d1_fall)\n",
    "plt.title('distribution of the return on day 1')\n",
    "plt.show()"
   ]
  },
  {
   "cell_type": "markdown",
   "id": "16731070",
   "metadata": {},
   "source": [
    "## 刨除停止实施样本后的表现"
   ]
  },
  {
   "cell_type": "code",
   "execution_count": 469,
   "id": "824d28f1",
   "metadata": {},
   "outputs": [],
   "source": [
    "class day120test:\n",
    "    def __init__(self, data=abs_ret, time_window=120):\n",
    "        self.time_window = time_window\n",
    "        self.data = data\n",
    "        self.all_ret = self.data[~self.data.status.isin(['停止实施', '延期实施','未通过', '股东大会未通过']) ]\n",
    "        self.equity_part = self.all_ret[['equity' + str(x+1) for x in range(time_window)]]\n",
    "        self.index_part = self.all_ret[['index' + str(x+1) for x in range(time_window)]]\n",
    "\n",
    "        self.excess_ret = pd.DataFrame(self.equity_part.values - self.index_part.values, index=self.all_ret.index, \n",
    "                                  columns=['T+' + str(x+1) for x in range(time_window)])\n",
    "        self.calculation()\n",
    "        self.stats()\n",
    "    def calculation(self):\n",
    "        ## 120 day return dataframe\n",
    "        self.t_df = pd.DataFrame(index=np.arange(1,121), columns=['excess_mean', 'excess_median', 'equity', 'index'])\n",
    "        self.t_df['excess_mean'] = list(self.excess_ret.mean())\n",
    "        # t_df['csi'] = list(index_ret)\n",
    "        self.t_df['excess_median'] = list(self.excess_ret.median())\n",
    "        self.t_df['equity'] = list(self.equity_part.mean())\n",
    "        self.t_df['index'] = list(self.index_part.mean())\n",
    "        \n",
    "    def stats(self):\n",
    "        win_rate = ((self.equity_part.values > self.index_part.values).astype(int).mean(axis=0))\n",
    "        max_value = self.excess_ret.max(axis=0)\n",
    "        min_value = self.excess_ret.min(axis=0)\n",
    "        self.stats_df = pd.DataFrame(index=['mean', 'median', 'max', 'min', 'win_rate'], \n",
    "                        columns=[\"T+\"+str(x+1) for x in range(self.time_window)])\n",
    "        self.stats_df.loc['mean'] = list(self.excess_ret.mean())\n",
    "        self.stats_df.loc['median'] = list(self.excess_ret.median())\n",
    "        self.stats_df.loc['max'] = list(self.excess_ret.max(axis=0))\n",
    "        self.stats_df.loc['min'] = list(self.excess_ret.min(axis=0))\n",
    "        self.stats_df.loc['win_rate'] = list(win_rate)\n",
    "    def show_stats(self):\n",
    "        print(self.stats_df[['T+'+str(x) for x in [20,40,60,80,100,120]]])\n",
    "        \n",
    "    def plot_fig(self):\n",
    "        self.t_df[['excess_mean', 'equity', 'index']].plot()\n",
    "        plt.show()"
   ]
  },
  {
   "cell_type": "markdown",
   "id": "5c479ff2",
   "metadata": {},
   "source": [
    "## 超额收益图以及相关统计量"
   ]
  },
  {
   "cell_type": "code",
   "execution_count": 470,
   "id": "62a1b2bd",
   "metadata": {},
   "outputs": [
    {
     "data": {
      "image/png": "[encoded data removed]",
      "text/plain": [
       "<Figure size 432x288 with 1 Axes>"
      ]
     },
     "metadata": {},
     "output_type": "display_data"
    },
    {
     "name": "stdout",
     "output_type": "stream",
     "text": [
      "              T+20      T+40       T+60       T+80      T+100      T+120\n",
      "mean      0.017892  0.027243   0.036332   0.043459   0.047359   0.049195\n",
      "median    0.004354 -0.001383  -0.005203  -0.005341  -0.014763  -0.028038\n",
      "max       1.705411  4.935535  10.942795  10.442498  10.125807  11.796835\n",
      "min      -0.725505 -0.734479  -0.740852  -1.080329    -1.1303   -1.29755\n",
      "win_rate   0.51989  0.497238   0.487569   0.489227   0.473481   0.458011\n"
     ]
    }
   ],
   "source": [
    "test = day120test(data=abs_ret)\n",
    "test.plot_fig()\n",
    "test.show_stats()"
   ]
  },
  {
   "cell_type": "code",
   "execution_count": 310,
   "id": "f6332cba",
   "metadata": {},
   "outputs": [
    {
     "data": {
      "text/html": [
       "<div>\n",
       "<style scoped>\n",
       "    .dataframe tbody tr th:only-of-type {\n",
       "        vertical-align: middle;\n",
       "    }\n",
       "\n",
       "    .dataframe tbody tr th {\n",
       "        vertical-align: top;\n",
       "    }\n",
       "\n",
       "    .dataframe thead th {\n",
       "        text-align: right;\n",
       "    }\n",
       "</style>\n",
       "<table border=\"1\" class=\"dataframe\">\n",
       "  <thead>\n",
       "    <tr style=\"text-align: right;\">\n",
       "      <th></th>\n",
       "      <th>T+20</th>\n",
       "      <th>T+40</th>\n",
       "      <th>T+60</th>\n",
       "      <th>T+80</th>\n",
       "      <th>T+100</th>\n",
       "      <th>T+120</th>\n",
       "    </tr>\n",
       "  </thead>\n",
       "  <tbody>\n",
       "    <tr>\n",
       "      <th>mean</th>\n",
       "      <td>0.017892</td>\n",
       "      <td>0.027243</td>\n",
       "      <td>0.036332</td>\n",
       "      <td>0.043459</td>\n",
       "      <td>0.047359</td>\n",
       "      <td>0.049195</td>\n",
       "    </tr>\n",
       "    <tr>\n",
       "      <th>median</th>\n",
       "      <td>0.004354</td>\n",
       "      <td>-0.001383</td>\n",
       "      <td>-0.005203</td>\n",
       "      <td>-0.005341</td>\n",
       "      <td>-0.014763</td>\n",
       "      <td>-0.028038</td>\n",
       "    </tr>\n",
       "    <tr>\n",
       "      <th>max</th>\n",
       "      <td>1.705411</td>\n",
       "      <td>4.935535</td>\n",
       "      <td>10.942795</td>\n",
       "      <td>10.442498</td>\n",
       "      <td>10.125807</td>\n",
       "      <td>11.796835</td>\n",
       "    </tr>\n",
       "    <tr>\n",
       "      <th>min</th>\n",
       "      <td>-0.725505</td>\n",
       "      <td>-0.734479</td>\n",
       "      <td>-0.740852</td>\n",
       "      <td>-1.080329</td>\n",
       "      <td>-1.1303</td>\n",
       "      <td>-1.29755</td>\n",
       "    </tr>\n",
       "    <tr>\n",
       "      <th>win_rate</th>\n",
       "      <td>0.51989</td>\n",
       "      <td>0.497238</td>\n",
       "      <td>0.487569</td>\n",
       "      <td>0.489227</td>\n",
       "      <td>0.473481</td>\n",
       "      <td>0.458011</td>\n",
       "    </tr>\n",
       "  </tbody>\n",
       "</table>\n",
       "</div>"
      ],
      "text/plain": [
       "              T+20      T+40       T+60       T+80      T+100      T+120\n",
       "mean      0.017892  0.027243   0.036332   0.043459   0.047359   0.049195\n",
       "median    0.004354 -0.001383  -0.005203  -0.005341  -0.014763  -0.028038\n",
       "max       1.705411  4.935535  10.942795  10.442498  10.125807  11.796835\n",
       "min      -0.725505 -0.734479  -0.740852  -1.080329    -1.1303   -1.29755\n",
       "win_rate   0.51989  0.497238   0.487569   0.489227   0.473481   0.458011"
      ]
     },
     "execution_count": 310,
     "metadata": {},
     "output_type": "execute_result"
    }
   ],
   "source": [
    "test.stats_df[['T+'+str(x) for x in [20,40,60,80,100,120]]]"
   ]
  },
  {
   "cell_type": "code",
   "execution_count": 484,
   "id": "89a6363d",
   "metadata": {},
   "outputs": [],
   "source": [
    "stats_df[['T+'+str(x) for x in [20,40,60,80,100,120]]].transpose().to_clipboard()"
   ]
  },
  {
   "cell_type": "code",
   "execution_count": 269,
   "id": "82f2563c",
   "metadata": {},
   "outputs": [],
   "source": [
    "all_ret = abs_ret[~abs_ret.status.isin(['停止实施', '延期实施','未通过', '股东大会未通过']) ]\n",
    "equity_part = all_ret[['equity' + str(x+1) for x in range(time_window)]]\n",
    "index_part = all_ret[['index' + str(x+1) for x in range(time_window)]]\n",
    "\n",
    "excess_ret = pd.DataFrame(equity_part.values - index_part.values, index=all_ret.index, \n",
    "                          columns=['T+' + str(x+1) for x in range(time_window)])\n",
    "# equity_median = excess_ret[['equity' + str(x+1) for x in range(time_window)]].median()\n",
    "# index_median = excess_ret[['index' + str(x+1) for x in range(time_window)]].median()\n"
   ]
  },
  {
   "cell_type": "code",
   "execution_count": 270,
   "id": "2ea0a418",
   "metadata": {},
   "outputs": [],
   "source": [
    "## 120 day return dataframe\n",
    "t_df = pd.DataFrame(index=np.arange(1,121), columns=['excess_mean', 'excess_median', 'equity', 'index'])\n",
    "t_df['excess_mean'] = list(excess_ret.mean())\n",
    "# t_df['csi'] = list(index_ret)\n",
    "t_df['excess_median'] = list(excess_ret.median())\n",
    "t_df['equity'] = list(equity_part.mean())\n",
    "t_df['index'] = list(index_part.mean())"
   ]
  },
  {
   "cell_type": "code",
   "execution_count": 437,
   "id": "d855681b",
   "metadata": {
    "scrolled": true
   },
   "outputs": [
    {
     "data": {
      "image/png": "[encoded data removed]",
      "text/plain": [
       "<Figure size 432x288 with 1 Axes>"
      ]
     },
     "metadata": {},
     "output_type": "display_data"
    }
   ],
   "source": [
    "t_df.plot()\n",
    "plt.show()"
   ]
  },
  {
   "cell_type": "markdown",
   "id": "cb2cba17",
   "metadata": {},
   "source": [
    "## 逼近拟合指数"
   ]
  },
  {
   "cell_type": "code",
   "execution_count": 526,
   "id": "4950a4cd",
   "metadata": {},
   "outputs": [],
   "source": [
    "sip19 = data[(data['预案公告日']>='2018-07-01')&data['方案进度'].isin(['实施', '董事会预案', '股东大会通过', '国资委批准'])]\n",
    "szzs = pd.read_excel('上证指数.xlsx',index_col=0).dropna()\n",
    "stock_list = pd.DataFrame(index=pd.to_datetime(szzs['日期']), columns=['list'])"
   ]
  },
  {
   "cell_type": "code",
   "execution_count": 527,
   "id": "796fe2fa",
   "metadata": {},
   "outputs": [],
   "source": [
    "for date in stock_list.index:\n",
    "    candidates = sip19[(sip19['预案公告日'] <= date)]\n",
    "    stock_list.loc[date, 'list'] = list(candidates['代码'])"
   ]
  },
  {
   "cell_type": "code",
   "execution_count": 528,
   "id": "e2484530",
   "metadata": {},
   "outputs": [
    {
     "data": {
      "text/html": [
       "<div>\n",
       "<style scoped>\n",
       "    .dataframe tbody tr th:only-of-type {\n",
       "        vertical-align: middle;\n",
       "    }\n",
       "\n",
       "    .dataframe tbody tr th {\n",
       "        vertical-align: top;\n",
       "    }\n",
       "\n",
       "    .dataframe thead th {\n",
       "        text-align: right;\n",
       "    }\n",
       "</style>\n",
       "<table border=\"1\" class=\"dataframe\">\n",
       "  <thead>\n",
       "    <tr style=\"text-align: right;\">\n",
       "      <th></th>\n",
       "      <th>list</th>\n",
       "    </tr>\n",
       "    <tr>\n",
       "      <th>日期</th>\n",
       "      <th></th>\n",
       "    </tr>\n",
       "  </thead>\n",
       "  <tbody>\n",
       "    <tr>\n",
       "      <th>2019-05-31</th>\n",
       "      <td>[002824.SZ, 300142.SZ, 002640.SZ, 600933.SH, 0...</td>\n",
       "    </tr>\n",
       "    <tr>\n",
       "      <th>2019-06-03</th>\n",
       "      <td>[002824.SZ, 300142.SZ, 002640.SZ, 600933.SH, 0...</td>\n",
       "    </tr>\n",
       "    <tr>\n",
       "      <th>2019-06-04</th>\n",
       "      <td>[002824.SZ, 300142.SZ, 002640.SZ, 600933.SH, 0...</td>\n",
       "    </tr>\n",
       "    <tr>\n",
       "      <th>2019-06-05</th>\n",
       "      <td>[002824.SZ, 300142.SZ, 002640.SZ, 600933.SH, 0...</td>\n",
       "    </tr>\n",
       "    <tr>\n",
       "      <th>2019-06-06</th>\n",
       "      <td>[002824.SZ, 300142.SZ, 002640.SZ, 600933.SH, 0...</td>\n",
       "    </tr>\n",
       "  </tbody>\n",
       "</table>\n",
       "</div>"
      ],
      "text/plain": [
       "                                                         list\n",
       "日期                                                           \n",
       "2019-05-31  [002824.SZ, 300142.SZ, 002640.SZ, 600933.SH, 0...\n",
       "2019-06-03  [002824.SZ, 300142.SZ, 002640.SZ, 600933.SH, 0...\n",
       "2019-06-04  [002824.SZ, 300142.SZ, 002640.SZ, 600933.SH, 0...\n",
       "2019-06-05  [002824.SZ, 300142.SZ, 002640.SZ, 600933.SH, 0...\n",
       "2019-06-06  [002824.SZ, 300142.SZ, 002640.SZ, 600933.SH, 0..."
      ]
     },
     "execution_count": 528,
     "metadata": {},
     "output_type": "execute_result"
    }
   ],
   "source": [
    "stock_list.head()"
   ]
  },
  {
   "cell_type": "markdown",
   "id": "5df1006f",
   "metadata": {},
   "source": [
    "#### 条件：按照最新业绩报"
   ]
  },
  {
   "cell_type": "code",
   "execution_count": 529,
   "id": "db9363f4",
   "metadata": {},
   "outputs": [],
   "source": [
    "predicted_rate = pd.read_csv(\"预计增速.csv\", index_col=0)\n",
    "predicted_rate['预告日期'] = pd.to_datetime(predicted_rate['预告日期'])"
   ]
  },
  {
   "cell_type": "code",
   "execution_count": 530,
   "id": "721f816b",
   "metadata": {},
   "outputs": [],
   "source": [
    "for date in stock_list.index:\n",
    "    report = predicted_rate[((date-predicted_rate['预告日期']).dt.days<=120) & (predicted_rate['预告日期']<date)]\n",
    "    stock_list.loc[date, 'list'] = set(list(stock_list.loc[date][0])).intersection(set(list(report['证券代码'])))"
   ]
  },
  {
   "cell_type": "markdown",
   "id": "4b7f21b2",
   "metadata": {},
   "source": [
    "#### 条件：按照评级家数"
   ]
  },
  {
   "cell_type": "code",
   "execution_count": 531,
   "id": "2043fa95",
   "metadata": {},
   "outputs": [],
   "source": [
    "instnum = pd.read_excel(\"评级家数.xlsx\", index_col=0).drop('证券简称',axis=1).transpose()\n",
    "instnum.index = pd.to_datetime(instnum.index.astype(str))"
   ]
  },
  {
   "cell_type": "code",
   "execution_count": 532,
   "id": "550b3a3c",
   "metadata": {},
   "outputs": [],
   "source": [
    "for date in stock_list.index:\n",
    "    num = instnum.loc[instnum.index<date,:].iloc[-1,:]\n",
    "    num_3 = num[num>=3]\n",
    "    stock_list.loc[date, 'list'] = set(list(stock_list.loc[date][0])).intersection(set(list(num_3.index)))"
   ]
  },
  {
   "cell_type": "code",
   "execution_count": 525,
   "id": "cc8f8b64",
   "metadata": {},
   "outputs": [
    {
     "data": {
      "text/plain": [
       "Index(['603609.SH', '002398.SZ', '002399.SZ', '002400.SZ', '002409.SZ',\n",
       "       '002410.SZ', '002411.SZ', '002413.SZ', '002415.SZ', '002572.SZ',\n",
       "       ...\n",
       "       '002456.SZ', '601717.SH', '002440.SZ', '300094.SZ', '002607.SZ',\n",
       "       '002608.SZ', '601636.SH', '002594.SZ', '601058.SH', '600023.SH'],\n",
       "      dtype='object', name='证券代码', length=1236)"
      ]
     },
     "execution_count": 525,
     "metadata": {},
     "output_type": "execute_result"
    }
   ],
   "source": [
    "num_3.index"
   ]
  },
  {
   "cell_type": "markdown",
   "id": "1be975e6",
   "metadata": {},
   "source": [
    "#### 组合收益"
   ]
  },
  {
   "cell_type": "code",
   "execution_count": 533,
   "id": "edf74737",
   "metadata": {},
   "outputs": [],
   "source": [
    "equity_return = pd.read_csv(\"panel_return.csv\")\n",
    "equity_return['日期'] = pd.to_datetime(equity_return['日期'])\n",
    "equity_return.set_index('日期', inplace=True)"
   ]
  },
  {
   "cell_type": "code",
   "execution_count": 534,
   "id": "a138447e",
   "metadata": {},
   "outputs": [],
   "source": [
    "indice = pd.DataFrame(index=equity_return.index, columns=['r','nv'])"
   ]
  },
  {
   "cell_type": "code",
   "execution_count": 535,
   "id": "e32ab76b",
   "metadata": {},
   "outputs": [],
   "source": [
    "for date in indice.index:\n",
    "    mean_r = equity_return.loc[date, stock_list.loc[date, 'list']].mean()\n",
    "    indice.loc[date, 'r'] = mean_r"
   ]
  },
  {
   "cell_type": "code",
   "execution_count": 536,
   "id": "789bc3a9",
   "metadata": {},
   "outputs": [],
   "source": [
    "indice['nv'] = (1+indice['r']).cumprod()"
   ]
  },
  {
   "cell_type": "code",
   "execution_count": 537,
   "id": "8d7d2835",
   "metadata": {},
   "outputs": [
    {
     "data": {
      "image/png": "[encoded data removed]",
      "text/plain": [
       "<Figure size 432x288 with 1 Axes>"
      ]
     },
     "metadata": {},
     "output_type": "display_data"
    }
   ],
   "source": [
    "indice['nv'].plot()\n",
    "plt.show()"
   ]
  },
  {
   "cell_type": "code",
   "execution_count": 538,
   "id": "1ac25983",
   "metadata": {},
   "outputs": [],
   "source": [
    "class indice_approximation:\n",
    "    def __init__(self, data=data):\n",
    "        self.sip19 = data[(data['预案公告日']>='2018-07-01')&data['方案进度'].isin(\n",
    "            ['实施', '董事会预案', '股东大会通过', '国资委批准'])]\n",
    "        self.szzs = pd.read_excel('上证指数.xlsx',index_col=0).dropna()\n",
    "        self.stock_list = pd.DataFrame(index=pd.to_datetime(self.szzs['日期']), columns=['list'])\n",
    "        \n",
    "        ##\n",
    "        self.equity_return = pd.read_csv(\"panel_return.csv\")\n",
    "        self.equity_return['日期'] = pd.to_datetime(self.equity_return['日期'])\n",
    "        self.equity_return.set_index('日期', inplace=True)\n",
    "    def incentive_list(self, enhanced=True):\n",
    "        for date in self.stock_list.index:\n",
    "            if enhanced:\n",
    "                self.candidates = self.sip19[(self.sip19['预案公告日'] <= date)&(\n",
    "                    (date-self.sip19['预案公告日']).dt.days <=120)]\n",
    "            else:\n",
    "                self.candidates = self.sip19[(self.sip19['预案公告日'] <= date)]\n",
    "                \n",
    "            self.stock_list.loc[date, 'list'] = list(self.candidates['代码'])\n",
    "    def report_filter(self):\n",
    "        self.predicted_rate = pd.read_csv(\"预计增速.csv\", index_col=0)\n",
    "        self.predicted_rate['预告日期'] = pd.to_datetime(self.predicted_rate['预告日期'])\n",
    "        for date in self.stock_list.index:\n",
    "            report = self.predicted_rate[((date-self.predicted_rate['预告日期']).dt.days<=120) & \n",
    "                                         (self.predicted_rate['预告日期']<date)]\n",
    "            self.stock_list.loc[date, 'list'] = set(list(self.stock_list.loc[date][0])).intersection(set(list(report['证券代码'])))\n",
    "    \n",
    "    def instnum_filter(self):\n",
    "        self.instnum = pd.read_excel(\"评级家数.xlsx\", index_col=0).drop('证券简称',axis=1).transpose()\n",
    "        self.instnum.index = pd.to_datetime(self.instnum.index.astype(str))\n",
    "        \n",
    "        for date in self.stock_list.index:\n",
    "            num = self.instnum.loc[self.instnum.index<date,:].iloc[-1,:]\n",
    "            num_3 = num[num>=3]\n",
    "            self.stock_list.loc[date, 'list'] = set(list(\n",
    "                self.stock_list.loc[date][0])).intersection(set(list(num_3.index)))\n",
    "\n",
    "    \n",
    "    def indice_output(self):\n",
    "        self.indice = pd.DataFrame(index=self.equity_return.index, columns=['r','nv'])\n",
    "        for date in indice.index:\n",
    "            mean_r = equity_return.loc[date, self.stock_list.loc[date, 'list']].mean()\n",
    "            self.indice.loc[date, 'r'] = mean_r\n",
    "        self.indice['nv'] = (1+self.indice['r']).cumprod()\n",
    "        self.indice['nv'].plot()\n",
    "        plt.title(\"股权激励指数近似\")\n",
    "        plt.show()\n",
    "        \n",
    "        self.ann_ret = np.mean(self.indice['r']) * 252\n",
    "        self.ann_sharpe = np.mean(self.indice['r'])/np.std(self.indice['r']) * np.sqrt(252)\n",
    "        print(\"年化收益为{:.3f}\".format(self.ann_ret))\n",
    "        print(\"Sharpe为{:.2f}\".format(self.ann_sharpe))\n",
    "        "
   ]
  },
  {
   "cell_type": "code",
   "execution_count": 566,
   "id": "658cc148",
   "metadata": {},
   "outputs": [
    {
     "data": {
      "image/png": "[encoded data removed]",
      "text/plain": [
       "<Figure size 432x288 with 1 Axes>"
      ]
     },
     "metadata": {},
     "output_type": "display_data"
    },
    {
     "name": "stdout",
     "output_type": "stream",
     "text": [
      "年化收益为0.448\n",
      "Sharpe为1.72\n"
     ]
    }
   ],
   "source": [
    "enhanced_index = indice_approximation()\n",
    "enhanced_index.incentive_list()\n",
    "enhanced_index.report_filter()\n",
    "# enhanced_index.instnum_filter()\n",
    "enhanced_index.indice_output()"
   ]
  },
  {
   "cell_type": "code",
   "execution_count": 562,
   "id": "2d1a9caa",
   "metadata": {},
   "outputs": [
    {
     "data": {
      "image/png": "[encoded data removed]",
      "text/plain": [
       "<Figure size 432x288 with 1 Axes>"
      ]
     },
     "metadata": {},
     "output_type": "display_data"
    },
    {
     "name": "stdout",
     "output_type": "stream",
     "text": [
      "年化收益为0.331\n",
      "Sharpe为1.34\n"
     ]
    }
   ],
   "source": [
    "original_index = indice_approximation()\n",
    "original_index.incentive_list(enhanced=False)\n",
    "original_index.report_filter()\n",
    "# original_index.instnum_filter()\n",
    "original_index.indice_output()"
   ]
  },
  {
   "cell_type": "code",
   "execution_count": 551,
   "id": "b2fd6ca6",
   "metadata": {},
   "outputs": [
    {
     "data": {
      "image/png": "[encoded data removed]",
      "text/plain": [
       "<Figure size 432x288 with 1 Axes>"
      ]
     },
     "metadata": {},
     "output_type": "display_data"
    }
   ],
   "source": [
    "original_index.indice['nv'].plot()\n",
    "enhanced_index.indice['nv'].plot()\n",
    "plt.legend(['原始wind指数','加强指数'])\n",
    "\n",
    "plt.show()"
   ]
  },
  {
   "cell_type": "code",
   "execution_count": 557,
   "id": "61b79a09",
   "metadata": {},
   "outputs": [],
   "source": [
    "wind_index = pd.read_excel('股权激励指数.xlsx', index_col='日期')\n",
    "wind_index['nv'] = wind_index['收盘价']/wind_index['收盘价'].iloc[0]"
   ]
  },
  {
   "cell_type": "code",
   "execution_count": 559,
   "id": "6fa20caa",
   "metadata": {},
   "outputs": [],
   "source": [
    "mutual_date = set(list(wind_index.index)).intersection(list(original_index.indice.index))"
   ]
  },
  {
   "cell_type": "code",
   "execution_count": 576,
   "id": "c3e6ef7a",
   "metadata": {},
   "outputs": [
    {
     "data": {
      "image/png": "[encoded data removed]",
      "text/plain": [
       "<Figure size 432x288 with 1 Axes>"
      ]
     },
     "metadata": {},
     "output_type": "display_data"
    }
   ],
   "source": [
    "# enhanced_index.indice.loc[mutual_date,'nv'].plot()\n",
    "wind_index.loc[mutual_date, 'nv'].plot(color='#00bfc4')\n",
    "original_index.indice.loc[mutual_date,'nv'].plot()\n",
    "plt.legend(['8841248.WI', '拟合指数'])\n",
    "plt.show()"
   ]
  },
  {
   "cell_type": "code",
   "execution_count": 575,
   "id": "40a667be",
   "metadata": {},
   "outputs": [
    {
     "data": {
      "image/png": "[encoded data removed]",
      "text/plain": [
       "<Figure size 432x288 with 1 Axes>"
      ]
     },
     "metadata": {},
     "output_type": "display_data"
    }
   ],
   "source": [
    "original_index.indice.loc[mutual_date,'nv'].plot()\n",
    "enhanced_index.indice.loc[mutual_date,'nv'].plot()\n",
    "wind_index.loc[mutual_date, 'nv'].plot(color='#00bfc4')\n",
    "plt.legend(['拟合指数', '加强指数','8841248.WI'])\n",
    "plt.show()"
   ]
  },
  {
   "cell_type": "code",
   "execution_count": null,
   "id": "4209748c",
   "metadata": {},
   "outputs": [],
   "source": []
  }
 ],
 "metadata": {
  "kernelspec": {
   "display_name": "Python 3 (ipykernel)",
   "language": "python",
   "name": "python3"
  },
  "language_info": {
   "codemirror_mode": {
    "name": "ipython",
    "version": 3
   },
   "file_extension": ".py",
   "mimetype": "text/x-python",
   "name": "python",
   "nbconvert_exporter": "python",
   "pygments_lexer": "ipython3",
   "version": "3.9.12"
  }
 },
 "nbformat": 4,
 "nbformat_minor": 5
}
